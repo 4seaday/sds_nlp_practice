{
  "nbformat": 4,
  "nbformat_minor": 0,
  "metadata": {
    "colab": {
      "name": "SDS_day2_02_scikit-learn.ipynb",
      "provenance": []
    },
    "kernelspec": {
      "name": "python3",
      "display_name": "Python 3"
    },
    "language_info": {
      "name": "python"
    }
  },
  "cells": [
    {
      "cell_type": "markdown",
      "metadata": {
        "id": "ckGPJkD2_qNf"
      },
      "source": [
        "# Scikit-learn을 이용한 분류"
      ]
    },
    {
      "cell_type": "code",
      "metadata": {
        "id": "A3RQ7qBA_w6L"
      },
      "source": [
        "train_path = \"/content/drive/MyDrive/05_강의자료/210719_SDS/nsmc_train_preprocessed.csv\"\n",
        "test_path = \"/content/drive/MyDrive/05_강의자료/210719_SDS/nsmc_test_preprocessed.csv\""
      ],
      "execution_count": 1,
      "outputs": []
    },
    {
      "cell_type": "code",
      "metadata": {
        "id": "Pq-0-RoSAZhG"
      },
      "source": [
        "import pandas as pd\n",
        "from sklearn.feature_extraction.text import TfidfVectorizer"
      ],
      "execution_count": 2,
      "outputs": []
    },
    {
      "cell_type": "code",
      "metadata": {
        "id": "U858bRH_Arfi"
      },
      "source": [
        "train = pd.read_csv(train_path)\n",
        "test = pd.read_csv(test_path)"
      ],
      "execution_count": 3,
      "outputs": []
    },
    {
      "cell_type": "code",
      "metadata": {
        "colab": {
          "base_uri": "https://localhost:8080/",
          "height": 206
        },
        "id": "OSgROY-VAxBH",
        "outputId": "1e82802d-2750-44a8-b44c-92a29a8db085"
      },
      "source": [
        "train.head()"
      ],
      "execution_count": 4,
      "outputs": [
        {
          "output_type": "execute_result",
          "data": {
            "text/html": [
              "<div>\n",
              "<style scoped>\n",
              "    .dataframe tbody tr th:only-of-type {\n",
              "        vertical-align: middle;\n",
              "    }\n",
              "\n",
              "    .dataframe tbody tr th {\n",
              "        vertical-align: top;\n",
              "    }\n",
              "\n",
              "    .dataframe thead th {\n",
              "        text-align: right;\n",
              "    }\n",
              "</style>\n",
              "<table border=\"1\" class=\"dataframe\">\n",
              "  <thead>\n",
              "    <tr style=\"text-align: right;\">\n",
              "      <th></th>\n",
              "      <th>Unnamed: 0</th>\n",
              "      <th>id</th>\n",
              "      <th>document</th>\n",
              "      <th>label</th>\n",
              "    </tr>\n",
              "  </thead>\n",
              "  <tbody>\n",
              "    <tr>\n",
              "      <th>0</th>\n",
              "      <td>0</td>\n",
              "      <td>9976970</td>\n",
              "      <td>더빙 진짜 짜증 나 목소리</td>\n",
              "      <td>0</td>\n",
              "    </tr>\n",
              "    <tr>\n",
              "      <th>1</th>\n",
              "      <td>1</td>\n",
              "      <td>3819312</td>\n",
              "      <td>흠 포스터 보 초딩 영화 줄 오버 연기 가볍 않</td>\n",
              "      <td>1</td>\n",
              "    </tr>\n",
              "    <tr>\n",
              "      <th>2</th>\n",
              "      <td>2</td>\n",
              "      <td>10265843</td>\n",
              "      <td>너무 그래서 보 것 추천 하</td>\n",
              "      <td>0</td>\n",
              "    </tr>\n",
              "    <tr>\n",
              "      <th>3</th>\n",
              "      <td>3</td>\n",
              "      <td>9045019</td>\n",
              "      <td>교도소 이야기 솔직히 재미 없 평점 조정</td>\n",
              "      <td>0</td>\n",
              "    </tr>\n",
              "    <tr>\n",
              "      <th>4</th>\n",
              "      <td>4</td>\n",
              "      <td>6483659</td>\n",
              "      <td>사이몬 익살 스럽 연기 돋보이 영화 스파이더맨 늙 보이 하 커스틴 던스트 너무나</td>\n",
              "      <td>1</td>\n",
              "    </tr>\n",
              "  </tbody>\n",
              "</table>\n",
              "</div>"
            ],
            "text/plain": [
              "   Unnamed: 0        id                                      document  label\n",
              "0           0   9976970                                더빙 진짜 짜증 나 목소리      0\n",
              "1           1   3819312                    흠 포스터 보 초딩 영화 줄 오버 연기 가볍 않      1\n",
              "2           2  10265843                               너무 그래서 보 것 추천 하      0\n",
              "3           3   9045019                        교도소 이야기 솔직히 재미 없 평점 조정      0\n",
              "4           4   6483659  사이몬 익살 스럽 연기 돋보이 영화 스파이더맨 늙 보이 하 커스틴 던스트 너무나      1"
            ]
          },
          "metadata": {
            "tags": []
          },
          "execution_count": 4
        }
      ]
    },
    {
      "cell_type": "code",
      "metadata": {
        "colab": {
          "base_uri": "https://localhost:8080/"
        },
        "id": "i4ABdl1nAzdp",
        "outputId": "6a1ffe6e-aca7-4de1-be01-206e17b8009c"
      },
      "source": [
        "train.info()"
      ],
      "execution_count": 5,
      "outputs": [
        {
          "output_type": "stream",
          "text": [
            "<class 'pandas.core.frame.DataFrame'>\n",
            "RangeIndex: 1000 entries, 0 to 999\n",
            "Data columns (total 4 columns):\n",
            " #   Column      Non-Null Count  Dtype \n",
            "---  ------      --------------  ----- \n",
            " 0   Unnamed: 0  1000 non-null   int64 \n",
            " 1   id          1000 non-null   int64 \n",
            " 2   document    988 non-null    object\n",
            " 3   label       1000 non-null   int64 \n",
            "dtypes: int64(3), object(1)\n",
            "memory usage: 31.4+ KB\n"
          ],
          "name": "stdout"
        }
      ]
    },
    {
      "cell_type": "code",
      "metadata": {
        "id": "W0T_NHrdA3vp"
      },
      "source": [
        "train = train.dropna()"
      ],
      "execution_count": 7,
      "outputs": []
    },
    {
      "cell_type": "code",
      "metadata": {
        "colab": {
          "base_uri": "https://localhost:8080/"
        },
        "id": "9bgFpCmwA7yA",
        "outputId": "95831011-8379-4bbe-a34a-df2cd018bbbf"
      },
      "source": [
        "test.info()"
      ],
      "execution_count": 8,
      "outputs": [
        {
          "output_type": "stream",
          "text": [
            "<class 'pandas.core.frame.DataFrame'>\n",
            "RangeIndex: 500 entries, 0 to 499\n",
            "Data columns (total 4 columns):\n",
            " #   Column      Non-Null Count  Dtype \n",
            "---  ------      --------------  ----- \n",
            " 0   Unnamed: 0  500 non-null    int64 \n",
            " 1   id          500 non-null    int64 \n",
            " 2   document    490 non-null    object\n",
            " 3   label       500 non-null    int64 \n",
            "dtypes: int64(3), object(1)\n",
            "memory usage: 15.8+ KB\n"
          ],
          "name": "stdout"
        }
      ]
    },
    {
      "cell_type": "code",
      "metadata": {
        "id": "J29ZukRdBBRo"
      },
      "source": [
        "test = test.dropna()"
      ],
      "execution_count": 9,
      "outputs": []
    },
    {
      "cell_type": "code",
      "metadata": {
        "colab": {
          "base_uri": "https://localhost:8080/"
        },
        "id": "EHHb3L9DBEGR",
        "outputId": "8cfb2166-fd42-40c1-e2b8-d487ffe987b4"
      },
      "source": [
        "train.info()"
      ],
      "execution_count": 10,
      "outputs": [
        {
          "output_type": "stream",
          "text": [
            "<class 'pandas.core.frame.DataFrame'>\n",
            "Int64Index: 988 entries, 0 to 999\n",
            "Data columns (total 4 columns):\n",
            " #   Column      Non-Null Count  Dtype \n",
            "---  ------      --------------  ----- \n",
            " 0   Unnamed: 0  988 non-null    int64 \n",
            " 1   id          988 non-null    int64 \n",
            " 2   document    988 non-null    object\n",
            " 3   label       988 non-null    int64 \n",
            "dtypes: int64(3), object(1)\n",
            "memory usage: 38.6+ KB\n"
          ],
          "name": "stdout"
        }
      ]
    },
    {
      "cell_type": "code",
      "metadata": {
        "id": "dwdQhoTdBIKm"
      },
      "source": [
        "# Embedding\n",
        "tfidfv = TfidfVectorizer()"
      ],
      "execution_count": 12,
      "outputs": []
    },
    {
      "cell_type": "code",
      "metadata": {
        "id": "RZgLIUctBUhW"
      },
      "source": [
        "# tf-idf 계산하려면 전체 문서가 있어야 하는데, \n",
        "# train, test의 document 컬럼을 합쳐주겠습니다.\n",
        "\n",
        "corpus = train['document'].tolist()\n",
        "corpus.extend(test['document'].tolist())"
      ],
      "execution_count": 13,
      "outputs": []
    },
    {
      "cell_type": "code",
      "metadata": {
        "colab": {
          "base_uri": "https://localhost:8080/"
        },
        "id": "xCysKVQ7BvSn",
        "outputId": "80b79b0f-2417-40ac-e5b0-848ac1dfd484"
      },
      "source": [
        "len(corpus)"
      ],
      "execution_count": 14,
      "outputs": [
        {
          "output_type": "execute_result",
          "data": {
            "text/plain": [
              "1478"
            ]
          },
          "metadata": {
            "tags": []
          },
          "execution_count": 14
        }
      ]
    },
    {
      "cell_type": "code",
      "metadata": {
        "colab": {
          "base_uri": "https://localhost:8080/"
        },
        "id": "sSvJYG53ByS8",
        "outputId": "f2bb9461-79fe-40fc-b84f-b93dcc0db0ee"
      },
      "source": [
        "tfidfv.fit(corpus)"
      ],
      "execution_count": 15,
      "outputs": [
        {
          "output_type": "execute_result",
          "data": {
            "text/plain": [
              "TfidfVectorizer(analyzer='word', binary=False, decode_error='strict',\n",
              "                dtype=<class 'numpy.float64'>, encoding='utf-8',\n",
              "                input='content', lowercase=True, max_df=1.0, max_features=None,\n",
              "                min_df=1, ngram_range=(1, 1), norm='l2', preprocessor=None,\n",
              "                smooth_idf=True, stop_words=None, strip_accents=None,\n",
              "                sublinear_tf=False, token_pattern='(?u)\\\\b\\\\w\\\\w+\\\\b',\n",
              "                tokenizer=None, use_idf=True, vocabulary=None)"
            ]
          },
          "metadata": {
            "tags": []
          },
          "execution_count": 15
        }
      ]
    },
    {
      "cell_type": "code",
      "metadata": {
        "id": "svK9sw3rB50-"
      },
      "source": [
        "train_x = tfidfv.transform(train['document']).toarray()"
      ],
      "execution_count": 16,
      "outputs": []
    },
    {
      "cell_type": "code",
      "metadata": {
        "colab": {
          "base_uri": "https://localhost:8080/"
        },
        "id": "0ne1mE00CCz6",
        "outputId": "daeb1d76-0a51-42e9-f375-de91c85cf7ac"
      },
      "source": [
        "train_x"
      ],
      "execution_count": 17,
      "outputs": [
        {
          "output_type": "execute_result",
          "data": {
            "text/plain": [
              "array([[0., 0., 0., ..., 0., 0., 0.],\n",
              "       [0., 0., 0., ..., 0., 0., 0.],\n",
              "       [0., 0., 0., ..., 0., 0., 0.],\n",
              "       ...,\n",
              "       [0., 0., 0., ..., 0., 0., 0.],\n",
              "       [0., 0., 0., ..., 0., 0., 0.],\n",
              "       [0., 0., 0., ..., 0., 0., 0.]])"
            ]
          },
          "metadata": {
            "tags": []
          },
          "execution_count": 17
        }
      ]
    },
    {
      "cell_type": "code",
      "metadata": {
        "id": "D1bCFByoCFAM"
      },
      "source": [
        "test_x = tfidfv.transform(test['document']).toarray()"
      ],
      "execution_count": 18,
      "outputs": []
    },
    {
      "cell_type": "code",
      "metadata": {
        "id": "fcrqpqr0CLaU"
      },
      "source": [
        "# 머신러닝 모델 학습\n",
        "from sklearn.naive_bayes import BernoulliNB"
      ],
      "execution_count": 20,
      "outputs": []
    },
    {
      "cell_type": "code",
      "metadata": {
        "id": "ZSvjxO71CRap"
      },
      "source": [
        "# 나이브베이즈 분류기 객체 선언\n",
        "nb = BernoulliNB()"
      ],
      "execution_count": 21,
      "outputs": []
    },
    {
      "cell_type": "code",
      "metadata": {
        "colab": {
          "base_uri": "https://localhost:8080/"
        },
        "id": "CqZbZy9JCl8K",
        "outputId": "d6dc4d47-1c85-4da0-c1a6-eb3a12b78930"
      },
      "source": [
        "nb.fit(train_x, train['label'])"
      ],
      "execution_count": 22,
      "outputs": [
        {
          "output_type": "execute_result",
          "data": {
            "text/plain": [
              "BernoulliNB(alpha=1.0, binarize=0.0, class_prior=None, fit_prior=True)"
            ]
          },
          "metadata": {
            "tags": []
          },
          "execution_count": 22
        }
      ]
    },
    {
      "cell_type": "code",
      "metadata": {
        "id": "LEGePpdUC4Ax"
      },
      "source": [
        "pred_y = nb.predict(test_x)"
      ],
      "execution_count": 23,
      "outputs": []
    },
    {
      "cell_type": "code",
      "metadata": {
        "id": "Tk81d6gRC-QZ"
      },
      "source": [
        "from sklearn.metrics import classification_report"
      ],
      "execution_count": 24,
      "outputs": []
    },
    {
      "cell_type": "code",
      "metadata": {
        "colab": {
          "base_uri": "https://localhost:8080/"
        },
        "id": "3qeuVxOtDDmL",
        "outputId": "2cad316c-c219-4c97-af1c-c36253849f45"
      },
      "source": [
        "print(classification_report(test['label'], pred_y))"
      ],
      "execution_count": 26,
      "outputs": [
        {
          "output_type": "stream",
          "text": [
            "              precision    recall  f1-score   support\n",
            "\n",
            "           0       0.68      0.78      0.73       234\n",
            "           1       0.77      0.66      0.71       256\n",
            "\n",
            "    accuracy                           0.72       490\n",
            "   macro avg       0.72      0.72      0.72       490\n",
            "weighted avg       0.73      0.72      0.72       490\n",
            "\n"
          ],
          "name": "stdout"
        }
      ]
    },
    {
      "cell_type": "code",
      "metadata": {
        "id": "97Dn99diDKYN"
      },
      "source": [
        ""
      ],
      "execution_count": null,
      "outputs": []
    }
  ]
}
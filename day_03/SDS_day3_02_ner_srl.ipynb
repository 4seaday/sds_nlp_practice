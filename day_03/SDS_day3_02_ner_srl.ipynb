{
  "nbformat": 4,
  "nbformat_minor": 0,
  "metadata": {
    "colab": {
      "name": "SDS_day3_02_ner_srl.ipynb",
      "provenance": [],
      "collapsed_sections": []
    },
    "kernelspec": {
      "name": "python3",
      "display_name": "Python 3"
    },
    "language_info": {
      "name": "python"
    }
  },
  "cells": [
    {
      "cell_type": "markdown",
      "metadata": {
        "id": "4sSaV_dOU9QB"
      },
      "source": [
        "# NER & SRL 실습\n",
        "1. AllenNLP 라이브러리 사용\n",
        "2. NER Predictor를 이용한 토큰 대체\n",
        "3. SRL PRedictor를 이용한 스토리 이벤트 파싱"
      ]
    },
    {
      "cell_type": "markdown",
      "metadata": {
        "id": "oNoM3M1KVOC_"
      },
      "source": [
        "## 01 AllenNLP 라이브러리"
      ]
    },
    {
      "cell_type": "code",
      "metadata": {
        "id": "-GBKeV7mKr9Z"
      },
      "source": [
        "!pip install allennlp\n",
        "!pip install allennlp-models"
      ],
      "execution_count": null,
      "outputs": []
    },
    {
      "cell_type": "code",
      "metadata": {
        "id": "cAFYTjHMJ3yY"
      },
      "source": [
        "from allennlp.predictors.predictor import Predictor"
      ],
      "execution_count": 2,
      "outputs": []
    },
    {
      "cell_type": "code",
      "metadata": {
        "id": "d67co4tpKhHh"
      },
      "source": [
        "# NER과 SRL 모델 사용을 위한 predictor 정의를 해줍니다\n",
        "ner_predictor = Predictor.from_path(\"https://storage.googleapis.com/allennlp-public-models/ner-model-2020.02.10.tar.gz\")\n",
        "srl_predictor = Predictor.from_path(\"https://storage.googleapis.com/allennlp-public-models/structured-prediction-srl-bert.2020.12.15.tar.gz\")"
      ],
      "execution_count": null,
      "outputs": []
    },
    {
      "cell_type": "code",
      "metadata": {
        "id": "FYxxe-4NKWXq"
      },
      "source": [
        "srl_predictor.predict(sentence=documents[0])"
      ],
      "execution_count": null,
      "outputs": []
    },
    {
      "cell_type": "code",
      "metadata": {
        "id": "dWOypFqSLEgi"
      },
      "source": [
        "ner_predictor.predict(sentence=documents[0])"
      ],
      "execution_count": null,
      "outputs": []
    },
    {
      "cell_type": "markdown",
      "metadata": {
        "id": "Z5B1jOLNVWKV"
      },
      "source": [
        "데이터 로드"
      ]
    },
    {
      "cell_type": "code",
      "metadata": {
        "id": "ORM7jtl4Q442"
      },
      "source": [
        "import pandas as pd"
      ],
      "execution_count": null,
      "outputs": []
    },
    {
      "cell_type": "code",
      "metadata": {
        "id": "EWl3RUxZU1M7"
      },
      "source": [
        "data_path = \"/content/drive/MyDrive/05_강의자료/210719_SDS/ROCStories__spring2016 - ROCStories_spring2016.csv\""
      ],
      "execution_count": 75,
      "outputs": []
    },
    {
      "cell_type": "code",
      "metadata": {
        "id": "uOo-Fua2MMxB"
      },
      "source": [
        "data = pd.read_csv(data_path)"
      ],
      "execution_count": 76,
      "outputs": []
    },
    {
      "cell_type": "code",
      "metadata": {
        "colab": {
          "base_uri": "https://localhost:8080/",
          "height": 289
        },
        "id": "gQLGHvLZQ5y0",
        "outputId": "460241e4-3f0a-403e-d9a3-8f655967c6a6"
      },
      "source": [
        "data.head()"
      ],
      "execution_count": 77,
      "outputs": [
        {
          "output_type": "execute_result",
          "data": {
            "text/html": [
              "<div>\n",
              "<style scoped>\n",
              "    .dataframe tbody tr th:only-of-type {\n",
              "        vertical-align: middle;\n",
              "    }\n",
              "\n",
              "    .dataframe tbody tr th {\n",
              "        vertical-align: top;\n",
              "    }\n",
              "\n",
              "    .dataframe thead th {\n",
              "        text-align: right;\n",
              "    }\n",
              "</style>\n",
              "<table border=\"1\" class=\"dataframe\">\n",
              "  <thead>\n",
              "    <tr style=\"text-align: right;\">\n",
              "      <th></th>\n",
              "      <th>storyid</th>\n",
              "      <th>storytitle</th>\n",
              "      <th>sentence1</th>\n",
              "      <th>sentence2</th>\n",
              "      <th>sentence3</th>\n",
              "      <th>sentence4</th>\n",
              "      <th>sentence5</th>\n",
              "    </tr>\n",
              "  </thead>\n",
              "  <tbody>\n",
              "    <tr>\n",
              "      <th>0</th>\n",
              "      <td>9a51198e-96f1-42c3-b09d-a3e1e067d803</td>\n",
              "      <td>Overweight Kid</td>\n",
              "      <td>Dan's parents were overweight.</td>\n",
              "      <td>Dan was overweight as well.</td>\n",
              "      <td>The doctors told his parents it was unhealthy.</td>\n",
              "      <td>His parents understood and decided to make a c...</td>\n",
              "      <td>They got themselves and Dan on a diet.</td>\n",
              "    </tr>\n",
              "    <tr>\n",
              "      <th>1</th>\n",
              "      <td>617e7ada-3878-488d-bd56-40695b91f053</td>\n",
              "      <td>The Bike Accident</td>\n",
              "      <td>Carrie had just learned how to ride a bike.</td>\n",
              "      <td>She didn't have a bike of her own.</td>\n",
              "      <td>Carrie would sneak rides on her sister's bike.</td>\n",
              "      <td>She got nervous on a hill and crashed into a w...</td>\n",
              "      <td>The bike frame bent and Carrie got a deep gash...</td>\n",
              "    </tr>\n",
              "    <tr>\n",
              "      <th>2</th>\n",
              "      <td>79b0da1f-e460-4173-ba58-8c9e2553c53a</td>\n",
              "      <td>Beach</td>\n",
              "      <td>Morgan enjoyed long walks on the beach.</td>\n",
              "      <td>She and her boyfriend decided to go for a long...</td>\n",
              "      <td>After walking for over a mile, something happe...</td>\n",
              "      <td>Morgan decided to propose to her boyfriend.</td>\n",
              "      <td>Her boyfriend was upset he didn't propose to h...</td>\n",
              "    </tr>\n",
              "    <tr>\n",
              "      <th>3</th>\n",
              "      <td>d173b7de-4611-4cdf-934c-912834755e41</td>\n",
              "      <td>The bad customer.</td>\n",
              "      <td>Jane was working at a diner.</td>\n",
              "      <td>Suddenly, a customer barged up to the counter.</td>\n",
              "      <td>He began yelling about how long his food was t...</td>\n",
              "      <td>Jane didn't know how to react.</td>\n",
              "      <td>Luckily, her coworker intervened and calmed th...</td>\n",
              "    </tr>\n",
              "    <tr>\n",
              "      <th>4</th>\n",
              "      <td>af0fd5a4-de36-47ba-8aa2-e99d10986d7a</td>\n",
              "      <td>Being Patient</td>\n",
              "      <td>I was talking to my crush today.</td>\n",
              "      <td>She continued to complain about guys flirting ...</td>\n",
              "      <td>I decided to agree with what she says and list...</td>\n",
              "      <td>After I got home, I got a text from her.</td>\n",
              "      <td>She asked if we can hang out tomorrow.</td>\n",
              "    </tr>\n",
              "  </tbody>\n",
              "</table>\n",
              "</div>"
            ],
            "text/plain": [
              "                                storyid  ...                                          sentence5\n",
              "0  9a51198e-96f1-42c3-b09d-a3e1e067d803  ...             They got themselves and Dan on a diet.\n",
              "1  617e7ada-3878-488d-bd56-40695b91f053  ...  The bike frame bent and Carrie got a deep gash...\n",
              "2  79b0da1f-e460-4173-ba58-8c9e2553c53a  ...  Her boyfriend was upset he didn't propose to h...\n",
              "3  d173b7de-4611-4cdf-934c-912834755e41  ...  Luckily, her coworker intervened and calmed th...\n",
              "4  af0fd5a4-de36-47ba-8aa2-e99d10986d7a  ...             She asked if we can hang out tomorrow.\n",
              "\n",
              "[5 rows x 7 columns]"
            ]
          },
          "metadata": {
            "tags": []
          },
          "execution_count": 77
        }
      ]
    },
    {
      "cell_type": "markdown",
      "metadata": {
        "id": "sy1h_h7fQ6WU"
      },
      "source": [
        "## 02 NER Predictor를 이용해 'U-PER' 토큰으로 대체하기"
      ]
    },
    {
      "cell_type": "code",
      "metadata": {
        "id": "XGAjX83oRSqO"
      },
      "source": [
        "def ner_per_replace(sentence):\n",
        "    ner_result = ner_predictor.predict(sentence=sentence)\n",
        "    tags = ner_result['tags']\n",
        "    words = ner_result['words']\n",
        "    for i in range(len(tags)):\n",
        "        if tags[i] == 'U-PER':\n",
        "            words[i] = 'U-PER'\n",
        "    sentence = ' '.join(words)\n",
        "    return sentence"
      ],
      "execution_count": 78,
      "outputs": []
    },
    {
      "cell_type": "code",
      "metadata": {
        "id": "BWj3ci9JR8jI"
      },
      "source": [
        "def story_per_replace(row):\n",
        "    story = []\n",
        "    columns = ['sentence1', 'sentence2', 'sentence3', 'sentence4', 'sentence5']\n",
        "    for col in columns:\n",
        "        story.append(ner_per_replace(row[col]))\n",
        "    return story"
      ],
      "execution_count": 79,
      "outputs": []
    },
    {
      "cell_type": "code",
      "metadata": {
        "colab": {
          "base_uri": "https://localhost:8080/"
        },
        "id": "qVJG2PGWUn6i",
        "outputId": "47e73af2-0fb1-4302-c41c-0ff41c8875fc"
      },
      "source": [
        "story_per_replace(data.loc[0])"
      ],
      "execution_count": 80,
      "outputs": [
        {
          "output_type": "execute_result",
          "data": {
            "text/plain": [
              "[\"U-PER 's parents were overweight .\",\n",
              " 'U-PER was overweight as well .',\n",
              " 'The doctors told his parents it was unhealthy .',\n",
              " 'His parents understood and decided to make a change .',\n",
              " 'They got themselves and U-PER on a diet .']"
            ]
          },
          "metadata": {
            "tags": []
          },
          "execution_count": 80
        }
      ]
    },
    {
      "cell_type": "markdown",
      "metadata": {
        "id": "hkZoQEz7R__d"
      },
      "source": [
        "## 03 SRL PRedictor를 이용해 동사별 argument 파싱하기"
      ]
    },
    {
      "cell_type": "code",
      "metadata": {
        "id": "MOOHVU7sSPGJ"
      },
      "source": [
        "def srl_arg_replace(sentence):\n",
        "    events = []\n",
        "    srl_result = srl_predictor.predict(sentence=sentence)\n",
        "    words = srl_result['words']\n",
        "    for frame in srl_result['verbs']:\n",
        "        events.append(frame['description'])\n",
        "    return events"
      ],
      "execution_count": 81,
      "outputs": []
    },
    {
      "cell_type": "code",
      "metadata": {
        "id": "Zl_4gV9SSdFV"
      },
      "source": [
        "def story_event_parsing(row):\n",
        "    story = []\n",
        "    columns = ['sentence1', 'sentence2', 'sentence3', 'sentence4', 'sentence5']\n",
        "    for col in columns:\n",
        "        story.extend(srl_arg_replace(row[col]))\n",
        "    return story"
      ],
      "execution_count": 82,
      "outputs": []
    },
    {
      "cell_type": "code",
      "metadata": {
        "colab": {
          "base_uri": "https://localhost:8080/"
        },
        "id": "D7PiIYZ6SfLC",
        "outputId": "efebf3f3-19c9-41ff-aa88-36f3511706b6"
      },
      "source": [
        "story_event_parsing(data.loc[0])"
      ],
      "execution_count": 83,
      "outputs": [
        {
          "output_type": "execute_result",
          "data": {
            "text/plain": [
              "[\"[ARG1: Dan 's parents] [V: were] [ARG2: overweight] .\",\n",
              " '[ARG1: Dan] [V: was] [ARG2: overweight] [ARGM-ADV: as well] .',\n",
              " '[ARG0: The doctors] [V: told] [ARG2: his parents] [ARG1: it was unhealthy] .',\n",
              " 'The doctors told his parents [ARG1: it] [V: was] [ARG2: unhealthy] .',\n",
              " '[ARG0: His parents] [V: understood] and decided to make a change .',\n",
              " '[ARG0: His parents] understood and [V: decided] [ARG1: to make a change] .',\n",
              " '[ARG0: His parents] understood and decided to [V: make] [ARG1: a change] .',\n",
              " '[ARG0: They] [V: got] [ARG1: themselves and Dan] [ARG2: on a diet] .']"
            ]
          },
          "metadata": {
            "tags": []
          },
          "execution_count": 83
        }
      ]
    },
    {
      "cell_type": "code",
      "metadata": {
        "id": "vh1UgmKJU28Z"
      },
      "source": [
        ""
      ],
      "execution_count": null,
      "outputs": []
    }
  ]
}
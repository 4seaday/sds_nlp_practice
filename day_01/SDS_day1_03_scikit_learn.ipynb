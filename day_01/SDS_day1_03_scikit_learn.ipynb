{
  "nbformat": 4,
  "nbformat_minor": 0,
  "metadata": {
    "colab": {
      "name": "SDS_day1_03_scikit-learn.ipynb",
      "provenance": [],
      "collapsed_sections": []
    },
    "kernelspec": {
      "name": "python3",
      "display_name": "Python 3"
    },
    "language_info": {
      "name": "python"
    }
  },
  "cells": [
    {
      "cell_type": "markdown",
      "metadata": {
        "id": "4CafHbNhteNq"
      },
      "source": [
        "# Scikit-learn을 이용한 Naive Bayes classification\n",
        "1. 데이터 로드\n",
        "2. 단어 임베딩\n",
        "3. Naive bayes 분류기 학습\n",
        "4. Test 데이터 추론"
      ]
    },
    {
      "cell_type": "code",
      "metadata": {
        "colab": {
          "base_uri": "https://localhost:8080/"
        },
        "id": "tuY-xw_jYV77",
        "outputId": "f933d7ac-d3cc-4c22-d8e0-170b2f64e80d"
      },
      "source": [
        "from google.colab import drive\n",
        "drive.mount('/content/drive')"
      ],
      "execution_count": null,
      "outputs": [
        {
          "output_type": "stream",
          "text": [
            "Mounted at /content/drive\n"
          ],
          "name": "stdout"
        }
      ]
    },
    {
      "cell_type": "code",
      "metadata": {
        "colab": {
          "base_uri": "https://localhost:8080/"
        },
        "id": "n3737mkWYcU-",
        "outputId": "e8abffd1-d1d0-4f32-fae2-7d393a417be0"
      },
      "source": [
        "import pandas as pd\n",
        "from nltk.tokenize import word_tokenize\n",
        "from sklearn.metrics import classification_report\n",
        "import math\n",
        "import numpy as np\n",
        "import nltk\n",
        "nltk.download('punkt')"
      ],
      "execution_count": null,
      "outputs": [
        {
          "output_type": "stream",
          "text": [
            "[nltk_data] Downloading package punkt to /root/nltk_data...\n",
            "[nltk_data]   Unzipping tokenizers/punkt.zip.\n"
          ],
          "name": "stdout"
        },
        {
          "output_type": "execute_result",
          "data": {
            "text/plain": [
              "True"
            ]
          },
          "metadata": {
            "tags": []
          },
          "execution_count": 2
        }
      ]
    },
    {
      "cell_type": "markdown",
      "metadata": {
        "id": "ickSDzsctu8d"
      },
      "source": [
        "## 01 Data Load"
      ]
    },
    {
      "cell_type": "code",
      "metadata": {
        "id": "1SJnwgcsYhPf"
      },
      "source": [
        "# 데이터 경로를 수정해주세요.\n",
        "train_path = '/content/drive/MyDrive/05_강의자료/210719_SDS/train.csv'\n",
        "test_path = '/content/drive/MyDrive/05_강의자료/210719_SDS/test.csv'"
      ],
      "execution_count": null,
      "outputs": []
    },
    {
      "cell_type": "code",
      "metadata": {
        "id": "VLuJNeXuYihT"
      },
      "source": [
        "train = pd.read_csv(train_path)\n",
        "test = pd.read_csv(test_path)"
      ],
      "execution_count": null,
      "outputs": []
    },
    {
      "cell_type": "code",
      "metadata": {
        "id": "U8_2SlMvYjf8"
      },
      "source": [
        "corpus = train['mail'].tolist()"
      ],
      "execution_count": null,
      "outputs": []
    },
    {
      "cell_type": "code",
      "metadata": {
        "id": "GwhoonXDYs3B"
      },
      "source": [
        "corpus.extend(test['mail'].tolist())"
      ],
      "execution_count": null,
      "outputs": []
    },
    {
      "cell_type": "code",
      "metadata": {
        "colab": {
          "base_uri": "https://localhost:8080/"
        },
        "id": "jYT1fGz3ZUu4",
        "outputId": "829a1f1f-d281-4b91-eb29-99dec6811373"
      },
      "source": [
        "print(corpus[:3])\n",
        "print(corpus[-3:])"
      ],
      "execution_count": null,
      "outputs": [
        {
          "output_type": "stream",
          "text": [
            "[\"LookAtMe!: Thanks for your purchase of a video clip from LookAtMe!, you've been charged 35p. Think you can do better? Why not send a video in a MMSto 32323.\", \"Aight, I'll hit you up when I get some cash\", 'Don no da:)whats you plan?']\n",
            "['Thanks for your ringtone order, reference number X49.Your mobile will be charged 4.50. Should your tone not arrive please call customer services 09065989182', \"1's reach home call me.\", \"You've already got a flaky parent. It'snot supposed to be the child's job to support the parent...not until they're The Ride age anyway. I'm supposed to be there to support you. And now i've hurt you. unintentional. But hurt nonetheless.\"]\n"
          ],
          "name": "stdout"
        }
      ]
    },
    {
      "cell_type": "markdown",
      "metadata": {
        "id": "xkONh7JZtqAB"
      },
      "source": [
        "## 02 Word Embedding"
      ]
    },
    {
      "cell_type": "code",
      "metadata": {
        "id": "cwqjhdy0Y7nJ"
      },
      "source": [
        "from sklearn.feature_extraction.text import CountVectorizer"
      ],
      "execution_count": null,
      "outputs": []
    },
    {
      "cell_type": "code",
      "metadata": {
        "id": "BgAc4YifZFAL"
      },
      "source": [
        "vector = CountVectorizer()"
      ],
      "execution_count": null,
      "outputs": []
    },
    {
      "cell_type": "code",
      "metadata": {
        "colab": {
          "base_uri": "https://localhost:8080/"
        },
        "id": "k36cHsmwZF2T",
        "outputId": "e792bcaf-6681-4e7f-9028-5df548dd6ba9"
      },
      "source": [
        "vector.fit_transform(corpus)"
      ],
      "execution_count": null,
      "outputs": [
        {
          "output_type": "execute_result",
          "data": {
            "text/plain": [
              "<5572x8636 sparse matrix of type '<class 'numpy.int64'>'\n",
              "\twith 73685 stored elements in Compressed Sparse Row format>"
            ]
          },
          "metadata": {
            "tags": []
          },
          "execution_count": 33
        }
      ]
    },
    {
      "cell_type": "code",
      "metadata": {
        "id": "zoK6JU-ZZGoK"
      },
      "source": [
        "train_vector = vector.transform(train['mail']).toarray()"
      ],
      "execution_count": null,
      "outputs": []
    },
    {
      "cell_type": "code",
      "metadata": {
        "id": "ADh9l6SFZ51C"
      },
      "source": [
        "test_vector = vector.transform(test['mail']).toarray()"
      ],
      "execution_count": null,
      "outputs": []
    },
    {
      "cell_type": "markdown",
      "metadata": {
        "id": "qwyJ7gIYtxcm"
      },
      "source": [
        "## 03 Naive Bayes Classifier Traning"
      ]
    },
    {
      "cell_type": "code",
      "metadata": {
        "id": "iVjZL_QuZ8YC"
      },
      "source": [
        "from sklearn.naive_bayes import BernoulliNB"
      ],
      "execution_count": null,
      "outputs": []
    },
    {
      "cell_type": "code",
      "metadata": {
        "id": "EXEMXusOaCad"
      },
      "source": [
        "train_y = [1 if item == \"spam\" else 0 for item in train['label']]"
      ],
      "execution_count": null,
      "outputs": []
    },
    {
      "cell_type": "code",
      "metadata": {
        "id": "t6K57-yjao3D"
      },
      "source": [
        "test_y = [1 if item == \"spam\" else 0 for item in test['label']]"
      ],
      "execution_count": null,
      "outputs": []
    },
    {
      "cell_type": "code",
      "metadata": {
        "id": "S724ifYcapMZ"
      },
      "source": [
        "nb = BernoulliNB()"
      ],
      "execution_count": null,
      "outputs": []
    },
    {
      "cell_type": "code",
      "metadata": {
        "colab": {
          "base_uri": "https://localhost:8080/"
        },
        "id": "mQ7YA7_7bSZy",
        "outputId": "db3017bd-a47e-40d7-f359-2361e5f783d4"
      },
      "source": [
        "nb.fit(train_vector, train_y)"
      ],
      "execution_count": null,
      "outputs": [
        {
          "output_type": "execute_result",
          "data": {
            "text/plain": [
              "BernoulliNB(alpha=1.0, binarize=0.0, class_prior=None, fit_prior=True)"
            ]
          },
          "metadata": {
            "tags": []
          },
          "execution_count": 59
        }
      ]
    },
    {
      "cell_type": "markdown",
      "metadata": {
        "id": "wUmbEePJt2mr"
      },
      "source": [
        "## 04 Inference (Prediction)"
      ]
    },
    {
      "cell_type": "code",
      "metadata": {
        "id": "RcS0kgLZbWu4"
      },
      "source": [
        "y_pred = nb.predict(test_vector)"
      ],
      "execution_count": null,
      "outputs": []
    },
    {
      "cell_type": "code",
      "metadata": {
        "colab": {
          "base_uri": "https://localhost:8080/"
        },
        "id": "4WKCeOYCbdWN",
        "outputId": "c1a8947f-1ea7-4d63-a1cb-05203bc200ae"
      },
      "source": [
        "print(classification_report(test_y, y_pred))"
      ],
      "execution_count": null,
      "outputs": [
        {
          "output_type": "stream",
          "text": [
            "              precision    recall  f1-score   support\n",
            "\n",
            "           0       0.98      1.00      0.99       491\n",
            "           1       0.98      0.88      0.93        67\n",
            "\n",
            "    accuracy                           0.98       558\n",
            "   macro avg       0.98      0.94      0.96       558\n",
            "weighted avg       0.98      0.98      0.98       558\n",
            "\n"
          ],
          "name": "stdout"
        }
      ]
    },
    {
      "cell_type": "code",
      "metadata": {
        "id": "6GgfarefcdKJ"
      },
      "source": [
        ""
      ],
      "execution_count": null,
      "outputs": []
    }
  ]
}
{
  "nbformat": 4,
  "nbformat_minor": 0,
  "metadata": {
    "colab": {
      "name": "SDS_day2_01_preprocessing.ipynb",
      "provenance": [],
      "collapsed_sections": []
    },
    "kernelspec": {
      "name": "python3",
      "display_name": "Python 3"
    },
    "language_info": {
      "name": "python"
    }
  },
  "cells": [
    {
      "cell_type": "markdown",
      "metadata": {
        "id": "T4Jp29aaBE6g"
      },
      "source": [
        "# 텍스트 전처리\n",
        "1. 특수 문자 처리 등 간단한 전처리\n",
        "2. 문장 교정\n",
        "2. POS tag 활용하기\n",
        "3. 불용어 제거"
      ]
    },
    {
      "cell_type": "code",
      "metadata": {
        "colab": {
          "base_uri": "https://localhost:8080/"
        },
        "id": "Ye845cirBJ6W",
        "outputId": "1ec5361f-16d8-4528-a48e-5f8bdd575ea8"
      },
      "source": [
        "# 구글 드라이브 마운트\n",
        "from google.colab import drive\n",
        "drive.mount('/content/drive')"
      ],
      "execution_count": 3,
      "outputs": [
        {
          "output_type": "stream",
          "text": [
            "Mounted at /content/drive\n"
          ],
          "name": "stdout"
        }
      ]
    },
    {
      "cell_type": "code",
      "metadata": {
        "id": "W7pTvyqUEX3t"
      },
      "source": [
        "# 한국어 토큰화를 위해 konlpy를 설치합니다\n",
        "!apt-get update\n",
        "!apt-get install g++ openjdk-8-jdk\n",
        "!pip3 install konlpy"
      ],
      "execution_count": null,
      "outputs": []
    },
    {
      "cell_type": "code",
      "metadata": {
        "id": "QuIvuW0IBd05"
      },
      "source": [
        "# 라이브러리 로드\n",
        "import pandas as pd\n",
        "import re\n",
        "from konlpy.tag import Komoran"
      ],
      "execution_count": 6,
      "outputs": []
    },
    {
      "cell_type": "markdown",
      "metadata": {
        "id": "PdSYi4pfBgUu"
      },
      "source": [
        "## 01 간단한 전처리"
      ]
    },
    {
      "cell_type": "code",
      "metadata": {
        "id": "Le7JaauLBl1P"
      },
      "source": [
        "# 데이터 오픈\n",
        "train_path = \"/content/drive/MyDrive/05_강의자료/210719_SDS/nsmc_train.csv\"\n",
        "test_path = \"/content/drive/MyDrive/05_강의자료/210719_SDS/nsmc_test.csv\""
      ],
      "execution_count": 141,
      "outputs": []
    },
    {
      "cell_type": "code",
      "metadata": {
        "id": "cUV0gm3LByaH"
      },
      "source": [
        "train = pd.read_csv(train_path)\n",
        "test = pd.read_csv(test_path)"
      ],
      "execution_count": 192,
      "outputs": []
    },
    {
      "cell_type": "code",
      "metadata": {
        "colab": {
          "base_uri": "https://localhost:8080/",
          "height": 204
        },
        "id": "UB_kUuqHB2fO",
        "outputId": "b681aa5a-efd2-4ba9-e036-06e65a669b14"
      },
      "source": [
        "train.head(5)"
      ],
      "execution_count": 193,
      "outputs": [
        {
          "output_type": "execute_result",
          "data": {
            "text/html": [
              "<div>\n",
              "<style scoped>\n",
              "    .dataframe tbody tr th:only-of-type {\n",
              "        vertical-align: middle;\n",
              "    }\n",
              "\n",
              "    .dataframe tbody tr th {\n",
              "        vertical-align: top;\n",
              "    }\n",
              "\n",
              "    .dataframe thead th {\n",
              "        text-align: right;\n",
              "    }\n",
              "</style>\n",
              "<table border=\"1\" class=\"dataframe\">\n",
              "  <thead>\n",
              "    <tr style=\"text-align: right;\">\n",
              "      <th></th>\n",
              "      <th>id</th>\n",
              "      <th>document</th>\n",
              "      <th>label</th>\n",
              "    </tr>\n",
              "  </thead>\n",
              "  <tbody>\n",
              "    <tr>\n",
              "      <th>0</th>\n",
              "      <td>9976970</td>\n",
              "      <td>아 더빙.. 진짜 짜증나네요 목소리</td>\n",
              "      <td>0</td>\n",
              "    </tr>\n",
              "    <tr>\n",
              "      <th>1</th>\n",
              "      <td>3819312</td>\n",
              "      <td>흠...포스터보고 초딩영화줄....오버연기조차 가볍지 않구나</td>\n",
              "      <td>1</td>\n",
              "    </tr>\n",
              "    <tr>\n",
              "      <th>2</th>\n",
              "      <td>10265843</td>\n",
              "      <td>너무재밓었다그래서보는것을추천한다</td>\n",
              "      <td>0</td>\n",
              "    </tr>\n",
              "    <tr>\n",
              "      <th>3</th>\n",
              "      <td>9045019</td>\n",
              "      <td>교도소 이야기구먼 ..솔직히 재미는 없다..평점 조정</td>\n",
              "      <td>0</td>\n",
              "    </tr>\n",
              "    <tr>\n",
              "      <th>4</th>\n",
              "      <td>6483659</td>\n",
              "      <td>사이몬페그의 익살스런 연기가 돋보였던 영화!스파이더맨에서 늙어보이기만 했던 커스틴 ...</td>\n",
              "      <td>1</td>\n",
              "    </tr>\n",
              "  </tbody>\n",
              "</table>\n",
              "</div>"
            ],
            "text/plain": [
              "         id                                           document  label\n",
              "0   9976970                                아 더빙.. 진짜 짜증나네요 목소리      0\n",
              "1   3819312                  흠...포스터보고 초딩영화줄....오버연기조차 가볍지 않구나      1\n",
              "2  10265843                                  너무재밓었다그래서보는것을추천한다      0\n",
              "3   9045019                      교도소 이야기구먼 ..솔직히 재미는 없다..평점 조정      0\n",
              "4   6483659  사이몬페그의 익살스런 연기가 돋보였던 영화!스파이더맨에서 늙어보이기만 했던 커스틴 ...      1"
            ]
          },
          "metadata": {
            "tags": []
          },
          "execution_count": 193
        }
      ]
    },
    {
      "cell_type": "code",
      "metadata": {
        "colab": {
          "base_uri": "https://localhost:8080/"
        },
        "id": "KqZvE6EPB3Y4",
        "outputId": "93df4104-d704-4f4c-fefa-6a5e1f02454c"
      },
      "source": [
        "train.info()"
      ],
      "execution_count": 194,
      "outputs": [
        {
          "output_type": "stream",
          "text": [
            "<class 'pandas.core.frame.DataFrame'>\n",
            "RangeIndex: 150000 entries, 0 to 149999\n",
            "Data columns (total 3 columns):\n",
            " #   Column    Non-Null Count   Dtype \n",
            "---  ------    --------------   ----- \n",
            " 0   id        150000 non-null  int64 \n",
            " 1   document  149995 non-null  object\n",
            " 2   label     150000 non-null  int64 \n",
            "dtypes: int64(2), object(1)\n",
            "memory usage: 3.4+ MB\n"
          ],
          "name": "stdout"
        }
      ]
    },
    {
      "cell_type": "code",
      "metadata": {
        "colab": {
          "base_uri": "https://localhost:8080/"
        },
        "id": "hLbbikbvzPmf",
        "outputId": "eb5fe937-5b61-4d0f-cc83-dff9d9573048"
      },
      "source": [
        "test.info()"
      ],
      "execution_count": 195,
      "outputs": [
        {
          "output_type": "stream",
          "text": [
            "<class 'pandas.core.frame.DataFrame'>\n",
            "RangeIndex: 50000 entries, 0 to 49999\n",
            "Data columns (total 3 columns):\n",
            " #   Column    Non-Null Count  Dtype \n",
            "---  ------    --------------  ----- \n",
            " 0   id        50000 non-null  int64 \n",
            " 1   document  49997 non-null  object\n",
            " 2   label     50000 non-null  int64 \n",
            "dtypes: int64(2), object(1)\n",
            "memory usage: 1.1+ MB\n"
          ],
          "name": "stdout"
        }
      ]
    },
    {
      "cell_type": "code",
      "metadata": {
        "id": "TfBd14eJzIFK"
      },
      "source": [
        "train = train.dropna().loc[:100]\n",
        "test = test.dropna()"
      ],
      "execution_count": 196,
      "outputs": []
    },
    {
      "cell_type": "markdown",
      "metadata": {
        "id": "SvIEKlaEB5N1"
      },
      "source": [
        "#### 본격적인 전처리를 하겠습니다.\n",
        "1. 특수 문자 제거\n",
        "2. 숫자 제거\n",
        "3. 공백 제거"
      ]
    },
    {
      "cell_type": "code",
      "metadata": {
        "id": "Xfo6iJJxCXBd"
      },
      "source": [
        "# 예시 문장입니다\n",
        "review = \" 으아아~~~ 너무 재미있느 ㄴㄴㄴㄴ 영화였다*^_^*,,,,,별점 9999\""
      ],
      "execution_count": 197,
      "outputs": []
    },
    {
      "cell_type": "code",
      "metadata": {
        "colab": {
          "base_uri": "https://localhost:8080/",
          "height": 35
        },
        "id": "Oy-cLQ--DAUE",
        "outputId": "eb51f8af-4743-480f-921a-07694085720f"
      },
      "source": [
        "# 특수 문자만 제거하겠습니다\n",
        "re.sub(r'[@%\\\\*=()/~#&\\+á?\\xc3\\xa1\\-\\|\\.\\:\\;\\!\\-\\,\\_\\~\\$\\'\\\"\\^]', '', review)"
      ],
      "execution_count": 198,
      "outputs": [
        {
          "output_type": "execute_result",
          "data": {
            "application/vnd.google.colaboratory.intrinsic+json": {
              "type": "string"
            },
            "text/plain": [
              "' 으아아 너무 재미있느 ㄴㄴㄴㄴ 영화였다별점 9999'"
            ]
          },
          "metadata": {
            "tags": []
          },
          "execution_count": 198
        }
      ]
    },
    {
      "cell_type": "code",
      "metadata": {
        "colab": {
          "base_uri": "https://localhost:8080/",
          "height": 35
        },
        "id": "A2USyuFvDITd",
        "outputId": "9dd25e7c-ad8e-4b09-b57a-3d5f5149fe06"
      },
      "source": [
        "# 한글, 영어, 숫자빼고 다 제거하겠습니다\n",
        "temp = re.sub('[^가-힣a-zA-Z0-9\\s]', '', review)\n",
        "re.sub(r'\\s+', ' ', temp)"
      ],
      "execution_count": 199,
      "outputs": [
        {
          "output_type": "execute_result",
          "data": {
            "application/vnd.google.colaboratory.intrinsic+json": {
              "type": "string"
            },
            "text/plain": [
              "' 으아아 너무 재미있느 영화였다별점 9999'"
            ]
          },
          "metadata": {
            "tags": []
          },
          "execution_count": 199
        }
      ]
    },
    {
      "cell_type": "code",
      "metadata": {
        "colab": {
          "base_uri": "https://localhost:8080/",
          "height": 35
        },
        "id": "8-2AAjcTDI1X",
        "outputId": "0cd5f401-2e2b-4262-b223-18cd36804ec4"
      },
      "source": [
        "# 숫자도 제거해볼까요?\n",
        "re.sub(r'\\d+', '', review)"
      ],
      "execution_count": 151,
      "outputs": [
        {
          "output_type": "execute_result",
          "data": {
            "application/vnd.google.colaboratory.intrinsic+json": {
              "type": "string"
            },
            "text/plain": [
              "' 으아아~~~ 너무 재미있느 ㄴㄴㄴㄴ 영화였다*^_^*,,,,,별점 '"
            ]
          },
          "metadata": {
            "tags": []
          },
          "execution_count": 151
        }
      ]
    },
    {
      "cell_type": "code",
      "metadata": {
        "id": "ipUrXZUtExLa"
      },
      "source": [
        "# 특수 문자를 제거하는 파이프라인을 만들겠습니다.\n",
        "def remove_punct(documents):\n",
        "    cleaned_sents = []\n",
        "    for sentence in documents:\n",
        "        # 한글, 영어, 숫자빼고 제거\n",
        "        sentence = re.sub('[^가-힣a-zA-Z0-9\\s]', '', str(sentence))\n",
        "        # 2개 이상의 공백 제거\n",
        "        sentence = re.sub(r'\\s+', ' ', sentence)\n",
        "        # 시작이 공백인 경우 제거\n",
        "        sentence = re.sub(r'^\\s+', '', sentence)\n",
        "        # 마지막이 공백인 경우 제거\n",
        "        sentence = re.sub(r'\\s+$', '', sentence)\n",
        "        cleaned_sents.append(sentence)\n",
        "    return cleaned_sents"
      ],
      "execution_count": 200,
      "outputs": []
    },
    {
      "cell_type": "code",
      "metadata": {
        "id": "tQ6C-Jv6F9CB"
      },
      "source": [
        "train['document'] = remove_punct(train['document'])"
      ],
      "execution_count": 201,
      "outputs": []
    },
    {
      "cell_type": "code",
      "metadata": {
        "colab": {
          "base_uri": "https://localhost:8080/",
          "height": 204
        },
        "id": "QlQOxNJK2Z20",
        "outputId": "6d8d5882-6abe-4644-f507-73db2a95f603"
      },
      "source": [
        "train.head()"
      ],
      "execution_count": 202,
      "outputs": [
        {
          "output_type": "execute_result",
          "data": {
            "text/html": [
              "<div>\n",
              "<style scoped>\n",
              "    .dataframe tbody tr th:only-of-type {\n",
              "        vertical-align: middle;\n",
              "    }\n",
              "\n",
              "    .dataframe tbody tr th {\n",
              "        vertical-align: top;\n",
              "    }\n",
              "\n",
              "    .dataframe thead th {\n",
              "        text-align: right;\n",
              "    }\n",
              "</style>\n",
              "<table border=\"1\" class=\"dataframe\">\n",
              "  <thead>\n",
              "    <tr style=\"text-align: right;\">\n",
              "      <th></th>\n",
              "      <th>id</th>\n",
              "      <th>document</th>\n",
              "      <th>label</th>\n",
              "    </tr>\n",
              "  </thead>\n",
              "  <tbody>\n",
              "    <tr>\n",
              "      <th>0</th>\n",
              "      <td>9976970</td>\n",
              "      <td>아 더빙 진짜 짜증나네요 목소리</td>\n",
              "      <td>0</td>\n",
              "    </tr>\n",
              "    <tr>\n",
              "      <th>1</th>\n",
              "      <td>3819312</td>\n",
              "      <td>흠포스터보고 초딩영화줄오버연기조차 가볍지 않구나</td>\n",
              "      <td>1</td>\n",
              "    </tr>\n",
              "    <tr>\n",
              "      <th>2</th>\n",
              "      <td>10265843</td>\n",
              "      <td>너무재밓었다그래서보는것을추천한다</td>\n",
              "      <td>0</td>\n",
              "    </tr>\n",
              "    <tr>\n",
              "      <th>3</th>\n",
              "      <td>9045019</td>\n",
              "      <td>교도소 이야기구먼 솔직히 재미는 없다평점 조정</td>\n",
              "      <td>0</td>\n",
              "    </tr>\n",
              "    <tr>\n",
              "      <th>4</th>\n",
              "      <td>6483659</td>\n",
              "      <td>사이몬페그의 익살스런 연기가 돋보였던 영화스파이더맨에서 늙어보이기만 했던 커스틴 던...</td>\n",
              "      <td>1</td>\n",
              "    </tr>\n",
              "  </tbody>\n",
              "</table>\n",
              "</div>"
            ],
            "text/plain": [
              "         id                                           document  label\n",
              "0   9976970                                  아 더빙 진짜 짜증나네요 목소리      0\n",
              "1   3819312                         흠포스터보고 초딩영화줄오버연기조차 가볍지 않구나      1\n",
              "2  10265843                                  너무재밓었다그래서보는것을추천한다      0\n",
              "3   9045019                          교도소 이야기구먼 솔직히 재미는 없다평점 조정      0\n",
              "4   6483659  사이몬페그의 익살스런 연기가 돋보였던 영화스파이더맨에서 늙어보이기만 했던 커스틴 던...      1"
            ]
          },
          "metadata": {
            "tags": []
          },
          "execution_count": 202
        }
      ]
    },
    {
      "cell_type": "markdown",
      "metadata": {
        "id": "hGjP3ZoJXL-W"
      },
      "source": [
        "## 02 띄어쓰기 교정"
      ]
    },
    {
      "cell_type": "code",
      "metadata": {
        "id": "iJyCgz3dYAQ3"
      },
      "source": [
        "!pip install git+https://github.com/haven-jeon/PyKoSpacing.git"
      ],
      "execution_count": null,
      "outputs": []
    },
    {
      "cell_type": "code",
      "metadata": {
        "id": "e-lHUcNYYXDF"
      },
      "source": [
        "from pykospacing import Spacing"
      ],
      "execution_count": 204,
      "outputs": []
    },
    {
      "cell_type": "code",
      "metadata": {
        "id": "MK9MG-2RY4QZ"
      },
      "source": [
        "spacing = Spacing()"
      ],
      "execution_count": 205,
      "outputs": []
    },
    {
      "cell_type": "code",
      "metadata": {
        "colab": {
          "base_uri": "https://localhost:8080/"
        },
        "id": "grxJoZ5AXUdu",
        "outputId": "7b803460-cec3-4fc6-9658-f6017cf13b0d"
      },
      "source": [
        "sent = train.loc[2, 'document']\n",
        "print(sent)"
      ],
      "execution_count": 206,
      "outputs": [
        {
          "output_type": "stream",
          "text": [
            "너무재밓었다그래서보는것을추천한다\n"
          ],
          "name": "stdout"
        }
      ]
    },
    {
      "cell_type": "code",
      "metadata": {
        "colab": {
          "base_uri": "https://localhost:8080/",
          "height": 35
        },
        "id": "RmrPg7aoZC6H",
        "outputId": "52f0ff9f-1d45-4278-ff4a-50be5db8dc0b"
      },
      "source": [
        "spacing.get_spaced_sent(sent)"
      ],
      "execution_count": 207,
      "outputs": [
        {
          "output_type": "execute_result",
          "data": {
            "application/vnd.google.colaboratory.intrinsic+json": {
              "type": "string"
            },
            "text/plain": [
              "'너무 재밓었다 그래서 보는 것을 추천한다 '"
            ]
          },
          "metadata": {
            "tags": []
          },
          "execution_count": 207
        }
      ]
    },
    {
      "cell_type": "code",
      "metadata": {
        "id": "EPoLrPC-Zd_E"
      },
      "source": [
        "def space_check(documents):\n",
        "    checked_sentences = []\n",
        "    for sentence in documents:\n",
        "        checked_sentences.append(spacing.get_spaced_sent(sentence))\n",
        "    return checked_sentences"
      ],
      "execution_count": 210,
      "outputs": []
    },
    {
      "cell_type": "code",
      "metadata": {
        "id": "FJpom709dFnV"
      },
      "source": [
        "train['document'] = space_check(train['document'])"
      ],
      "execution_count": 211,
      "outputs": []
    },
    {
      "cell_type": "code",
      "metadata": {
        "colab": {
          "base_uri": "https://localhost:8080/",
          "height": 204
        },
        "id": "wUOffAftZss5",
        "outputId": "20494910-1ff4-48f5-fd7b-dbddfb19eade"
      },
      "source": [
        "train.head()"
      ],
      "execution_count": 212,
      "outputs": [
        {
          "output_type": "execute_result",
          "data": {
            "text/html": [
              "<div>\n",
              "<style scoped>\n",
              "    .dataframe tbody tr th:only-of-type {\n",
              "        vertical-align: middle;\n",
              "    }\n",
              "\n",
              "    .dataframe tbody tr th {\n",
              "        vertical-align: top;\n",
              "    }\n",
              "\n",
              "    .dataframe thead th {\n",
              "        text-align: right;\n",
              "    }\n",
              "</style>\n",
              "<table border=\"1\" class=\"dataframe\">\n",
              "  <thead>\n",
              "    <tr style=\"text-align: right;\">\n",
              "      <th></th>\n",
              "      <th>id</th>\n",
              "      <th>document</th>\n",
              "      <th>label</th>\n",
              "    </tr>\n",
              "  </thead>\n",
              "  <tbody>\n",
              "    <tr>\n",
              "      <th>0</th>\n",
              "      <td>9976970</td>\n",
              "      <td>아 더빙 진짜 짜증나네요 목소리</td>\n",
              "      <td>0</td>\n",
              "    </tr>\n",
              "    <tr>\n",
              "      <th>1</th>\n",
              "      <td>3819312</td>\n",
              "      <td>흠포스터 보고 초딩 영화 줄오버 연기조차 가볍지 않구나</td>\n",
              "      <td>1</td>\n",
              "    </tr>\n",
              "    <tr>\n",
              "      <th>2</th>\n",
              "      <td>10265843</td>\n",
              "      <td>너무 재밓었다 그래서 보는 것을 추천한다</td>\n",
              "      <td>0</td>\n",
              "    </tr>\n",
              "    <tr>\n",
              "      <th>3</th>\n",
              "      <td>9045019</td>\n",
              "      <td>교도소 이야기구먼 솔직히 재미는 없다 평점 조정</td>\n",
              "      <td>0</td>\n",
              "    </tr>\n",
              "    <tr>\n",
              "      <th>4</th>\n",
              "      <td>6483659</td>\n",
              "      <td>사이몬 페그의 익살스런 연기가 돋보였던 영화 스파이더맨에서 늙어 보이기만 했던 커스...</td>\n",
              "      <td>1</td>\n",
              "    </tr>\n",
              "  </tbody>\n",
              "</table>\n",
              "</div>"
            ],
            "text/plain": [
              "         id                                           document  label\n",
              "0   9976970                                 아 더빙 진짜 짜증나네요 목소리       0\n",
              "1   3819312                    흠포스터 보고 초딩 영화 줄오버 연기조차 가볍지 않구나       1\n",
              "2  10265843                            너무 재밓었다 그래서 보는 것을 추천한다       0\n",
              "3   9045019                        교도소 이야기구먼 솔직히 재미는 없다 평점 조정       0\n",
              "4   6483659  사이몬 페그의 익살스런 연기가 돋보였던 영화 스파이더맨에서 늙어 보이기만 했던 커스...      1"
            ]
          },
          "metadata": {
            "tags": []
          },
          "execution_count": 212
        }
      ]
    },
    {
      "cell_type": "markdown",
      "metadata": {
        "id": "Mu76q9WbEKcm"
      },
      "source": [
        "## 02 POS tag 활용하기"
      ]
    },
    {
      "cell_type": "code",
      "metadata": {
        "id": "lM8m-WdCEVIh"
      },
      "source": [
        "# Komoran 객체 정의\n",
        "komoran = Komoran()"
      ],
      "execution_count": 213,
      "outputs": []
    },
    {
      "cell_type": "code",
      "metadata": {
        "id": "hiKvnmRxEuL1"
      },
      "source": [
        "review = train['document'][0]"
      ],
      "execution_count": 214,
      "outputs": []
    },
    {
      "cell_type": "code",
      "metadata": {
        "colab": {
          "base_uri": "https://localhost:8080/",
          "height": 35
        },
        "id": "ldejm70XKgVB",
        "outputId": "64e532a8-e581-4dac-ca48-2ef410ac6505"
      },
      "source": [
        "review"
      ],
      "execution_count": 215,
      "outputs": [
        {
          "output_type": "execute_result",
          "data": {
            "application/vnd.google.colaboratory.intrinsic+json": {
              "type": "string"
            },
            "text/plain": [
              "'아 더빙 진짜 짜증나네요 목소리 '"
            ]
          },
          "metadata": {
            "tags": []
          },
          "execution_count": 215
        }
      ]
    },
    {
      "cell_type": "code",
      "metadata": {
        "colab": {
          "base_uri": "https://localhost:8080/"
        },
        "id": "yhKBALENKYLP",
        "outputId": "82e017d3-458c-4767-d27a-1fa55b9645d5"
      },
      "source": [
        "komoran.pos(review)"
      ],
      "execution_count": 216,
      "outputs": [
        {
          "output_type": "execute_result",
          "data": {
            "text/plain": [
              "[('아', 'IC'),\n",
              " ('더빙', 'NNP'),\n",
              " ('진짜', 'MAG'),\n",
              " ('짜증', 'NNG'),\n",
              " ('나', 'VV'),\n",
              " ('네요', 'EC'),\n",
              " ('목소리', 'NNG')]"
            ]
          },
          "metadata": {
            "tags": []
          },
          "execution_count": 216
        }
      ]
    },
    {
      "cell_type": "markdown",
      "metadata": {
        "id": "Cnzije0FKwfQ"
      },
      "source": [
        "한글 형태소 품사를 참고하여 중요 품사만 필터링하겠습니다.  \n",
        "http://kkma.snu.ac.kr/documents/?doc=postag"
      ]
    },
    {
      "cell_type": "code",
      "metadata": {
        "id": "llnBsTSTKazX"
      },
      "source": [
        "significant_tags = ['NNG', 'NNP', 'NNB', 'VV', 'VA', 'VX', 'MAG', 'MAJ', 'XSV', 'XSA']"
      ],
      "execution_count": 217,
      "outputs": []
    },
    {
      "cell_type": "code",
      "metadata": {
        "id": "Sda9EYPnWe2p"
      },
      "source": [
        "def pos_filtering(documents):\n",
        "    '''\n",
        "    입력 문장: 더빙 진짜 짜증나네요 목소리 \n",
        "    출력 문장: 더빙/NNP 진짜/MAG 짜증/NNG 나/VV 목소리/NNG\n",
        "    '''\n",
        "    filtered_docu = []\n",
        "    for sent in documents:\n",
        "        filtered_sent = \"\"\n",
        "        for token, tag in komoran.pos(sent):\n",
        "            filtered_sent += token + '/' + tag + ' '\n",
        "        filtered_docu.append(filtered_sent.strip())\n",
        "    return filtered_docu"
      ],
      "execution_count": 218,
      "outputs": []
    },
    {
      "cell_type": "code",
      "metadata": {
        "id": "tJW3cpHWWhIo"
      },
      "source": [
        "train['document'] = pos_filtering(train['document'])"
      ],
      "execution_count": 219,
      "outputs": []
    },
    {
      "cell_type": "code",
      "metadata": {
        "colab": {
          "base_uri": "https://localhost:8080/",
          "height": 204
        },
        "id": "zsnAHkfxWjEo",
        "outputId": "b9f6d309-f8c6-41f8-d213-9f10b907d6b2"
      },
      "source": [
        "train.head()"
      ],
      "execution_count": 220,
      "outputs": [
        {
          "output_type": "execute_result",
          "data": {
            "text/html": [
              "<div>\n",
              "<style scoped>\n",
              "    .dataframe tbody tr th:only-of-type {\n",
              "        vertical-align: middle;\n",
              "    }\n",
              "\n",
              "    .dataframe tbody tr th {\n",
              "        vertical-align: top;\n",
              "    }\n",
              "\n",
              "    .dataframe thead th {\n",
              "        text-align: right;\n",
              "    }\n",
              "</style>\n",
              "<table border=\"1\" class=\"dataframe\">\n",
              "  <thead>\n",
              "    <tr style=\"text-align: right;\">\n",
              "      <th></th>\n",
              "      <th>id</th>\n",
              "      <th>document</th>\n",
              "      <th>label</th>\n",
              "    </tr>\n",
              "  </thead>\n",
              "  <tbody>\n",
              "    <tr>\n",
              "      <th>0</th>\n",
              "      <td>9976970</td>\n",
              "      <td>아/IC 더빙/NNP 진짜/MAG 짜증/NNG 나/VV 네요/EC 목소리/NNG</td>\n",
              "      <td>0</td>\n",
              "    </tr>\n",
              "    <tr>\n",
              "      <th>1</th>\n",
              "      <td>3819312</td>\n",
              "      <td>흠/NNG 포스터/NNP 보/VV 고/EC 초딩/NNP 영화/NNG 줄/NNB 오버...</td>\n",
              "      <td>1</td>\n",
              "    </tr>\n",
              "    <tr>\n",
              "      <th>2</th>\n",
              "      <td>10265843</td>\n",
              "      <td>너무/MAG 재밓었다/NA 그래서/MAJ 보/VV 는/ETM 것/NNB 을/JKO ...</td>\n",
              "      <td>0</td>\n",
              "    </tr>\n",
              "    <tr>\n",
              "      <th>3</th>\n",
              "      <td>9045019</td>\n",
              "      <td>교도소/NNP 이야기/NNG 이/VCP 구먼/EC 솔직히/MAG 재미/NNG 는/J...</td>\n",
              "      <td>0</td>\n",
              "    </tr>\n",
              "    <tr>\n",
              "      <th>4</th>\n",
              "      <td>6483659</td>\n",
              "      <td>사이몬/NNP 페그의/NA 익살/NNG 스럽/XSA ㄴ/ETM 연기/NNG 가/JK...</td>\n",
              "      <td>1</td>\n",
              "    </tr>\n",
              "  </tbody>\n",
              "</table>\n",
              "</div>"
            ],
            "text/plain": [
              "         id                                           document  label\n",
              "0   9976970       아/IC 더빙/NNP 진짜/MAG 짜증/NNG 나/VV 네요/EC 목소리/NNG      0\n",
              "1   3819312  흠/NNG 포스터/NNP 보/VV 고/EC 초딩/NNP 영화/NNG 줄/NNB 오버...      1\n",
              "2  10265843  너무/MAG 재밓었다/NA 그래서/MAJ 보/VV 는/ETM 것/NNB 을/JKO ...      0\n",
              "3   9045019  교도소/NNP 이야기/NNG 이/VCP 구먼/EC 솔직히/MAG 재미/NNG 는/J...      0\n",
              "4   6483659  사이몬/NNP 페그의/NA 익살/NNG 스럽/XSA ㄴ/ETM 연기/NNG 가/JK...      1"
            ]
          },
          "metadata": {
            "tags": []
          },
          "execution_count": 220
        }
      ]
    },
    {
      "cell_type": "code",
      "metadata": {
        "id": "Srb95AwkK2tB"
      },
      "source": [
        "def pos_filtering(documents):\n",
        "    '''\n",
        "    입력 문장: 더빙 진짜 짜증나네요 목소리 \n",
        "    출력 문장: 더빙/NNP 진짜/MAG 짜증/NNG 나/VV 목소리/NNG\n",
        "    '''\n",
        "    filtered_docu = []\n",
        "    for sent in documents:\n",
        "        filtered_sent = \"\"\n",
        "        for token, tag in komoran.pos(sent):\n",
        "            if tag in significant_tags:\n",
        "                filtered_sent += token + '/' + tag + ' '\n",
        "        filtered_docu.append(filtered_sent.strip())\n",
        "    return filtered_docu"
      ],
      "execution_count": 221,
      "outputs": []
    },
    {
      "cell_type": "code",
      "metadata": {
        "id": "331tm-7UUVR6"
      },
      "source": [
        "train['document'] = pos_filtering(train['document'])"
      ],
      "execution_count": 222,
      "outputs": []
    },
    {
      "cell_type": "code",
      "metadata": {
        "colab": {
          "base_uri": "https://localhost:8080/",
          "height": 204
        },
        "id": "5vMdtIcbUXSR",
        "outputId": "6ded34f9-1617-47eb-de2d-d66483cf13ef"
      },
      "source": [
        "train.head()"
      ],
      "execution_count": 223,
      "outputs": [
        {
          "output_type": "execute_result",
          "data": {
            "text/html": [
              "<div>\n",
              "<style scoped>\n",
              "    .dataframe tbody tr th:only-of-type {\n",
              "        vertical-align: middle;\n",
              "    }\n",
              "\n",
              "    .dataframe tbody tr th {\n",
              "        vertical-align: top;\n",
              "    }\n",
              "\n",
              "    .dataframe thead th {\n",
              "        text-align: right;\n",
              "    }\n",
              "</style>\n",
              "<table border=\"1\" class=\"dataframe\">\n",
              "  <thead>\n",
              "    <tr style=\"text-align: right;\">\n",
              "      <th></th>\n",
              "      <th>id</th>\n",
              "      <th>document</th>\n",
              "      <th>label</th>\n",
              "    </tr>\n",
              "  </thead>\n",
              "  <tbody>\n",
              "    <tr>\n",
              "      <th>0</th>\n",
              "      <td>9976970</td>\n",
              "      <td>IC/NNP 더빙/NNP 진짜/NNG 짜증/NNP VV/NNP 요/NNP EC/NN...</td>\n",
              "      <td>0</td>\n",
              "    </tr>\n",
              "    <tr>\n",
              "      <th>1</th>\n",
              "      <td>3819312</td>\n",
              "      <td>포스터/NNP 보/NNG VV/NNP 고/NNG EC/NNP 초딩/NNP 영화/NN...</td>\n",
              "      <td>1</td>\n",
              "    </tr>\n",
              "    <tr>\n",
              "      <th>2</th>\n",
              "      <td>10265843</td>\n",
              "      <td>너무/MAG 그래서/MAJ 보/NNG VV/NNP 것/NNB 을/NNG 추천/NNG...</td>\n",
              "      <td>0</td>\n",
              "    </tr>\n",
              "    <tr>\n",
              "      <th>3</th>\n",
              "      <td>9045019</td>\n",
              "      <td>교도소/NNP 이야기/NNG 이/NNP EC/NNP 솔직히/MAG 재미/NNP JX...</td>\n",
              "      <td>0</td>\n",
              "    </tr>\n",
              "    <tr>\n",
              "      <th>4</th>\n",
              "      <td>6483659</td>\n",
              "      <td>사이몬/NNP 익살/NNG 연기/NNG 가/VV 돋보이/VV VV/NNP 덜/VV ...</td>\n",
              "      <td>1</td>\n",
              "    </tr>\n",
              "  </tbody>\n",
              "</table>\n",
              "</div>"
            ],
            "text/plain": [
              "         id                                           document  label\n",
              "0   9976970  IC/NNP 더빙/NNP 진짜/NNG 짜증/NNP VV/NNP 요/NNP EC/NN...      0\n",
              "1   3819312  포스터/NNP 보/NNG VV/NNP 고/NNG EC/NNP 초딩/NNP 영화/NN...      1\n",
              "2  10265843  너무/MAG 그래서/MAJ 보/NNG VV/NNP 것/NNB 을/NNG 추천/NNG...      0\n",
              "3   9045019  교도소/NNP 이야기/NNG 이/NNP EC/NNP 솔직히/MAG 재미/NNP JX...      0\n",
              "4   6483659  사이몬/NNP 익살/NNG 연기/NNG 가/VV 돋보이/VV VV/NNP 덜/VV ...      1"
            ]
          },
          "metadata": {
            "tags": []
          },
          "execution_count": 223
        }
      ]
    },
    {
      "cell_type": "markdown",
      "metadata": {
        "id": "iodpUcrPRui9"
      },
      "source": [
        "## 03 Stopwords\n",
        "* 이미 POS tag를 활용하는 단계에서 조사같은 불용어가 삭제되었습니다.\n",
        "* 하지만, 각 도메인에서의 불용어 집합이 다를 수 있기 때문에, 추가적으로 불용어를 정의해서 삭제하는 방법을 알아봅니다."
      ]
    },
    {
      "cell_type": "code",
      "metadata": {
        "id": "vFWjX7v4RxxG"
      },
      "source": [
        "# 불용어 정의\n",
        "stopwords = ['흠/NNG', '좀/MAG', '수/NNB', '등/NNB', '데/NNB']"
      ],
      "execution_count": 224,
      "outputs": []
    },
    {
      "cell_type": "code",
      "metadata": {
        "id": "obb5FVnRSGW9"
      },
      "source": [
        "def remove_stopwords(documents):\n",
        "    removed_sentences = []\n",
        "    for sent in documents:\n",
        "        modi_sent = []\n",
        "        for word in sent.split(' '):\n",
        "            if word not in stopwords:\n",
        "                modi_sent.append(word)\n",
        "        removed_sentences.append(' '.join(modi_sent))\n",
        "    return removed_sentences"
      ],
      "execution_count": 226,
      "outputs": []
    },
    {
      "cell_type": "code",
      "metadata": {
        "id": "_eMdgWhZSyjz"
      },
      "source": [
        "removed_stopwords_corpus = remove_stopwords(train['document'])"
      ],
      "execution_count": 227,
      "outputs": []
    },
    {
      "cell_type": "code",
      "metadata": {
        "colab": {
          "base_uri": "https://localhost:8080/"
        },
        "id": "L4Ny6tt2T_we",
        "outputId": "a70b77b6-2c6f-4b33-9a4b-3cb993dec833"
      },
      "source": [
        "removed_stopwords_corpus[:5]"
      ],
      "execution_count": 228,
      "outputs": [
        {
          "output_type": "execute_result",
          "data": {
            "text/plain": [
              "['IC/NNP 더빙/NNP 진짜/NNG 짜증/NNP VV/NNP 요/NNP EC/NNP 목소리/NNG',\n",
              " '포스터/NNP 보/NNG VV/NNP 고/NNG EC/NNP 초딩/NNP 영화/NNG 줄/NNB 오버/NNP 연기/NNG 조차/NNP JX/NNP 지/NNG EC/NNP 않/VV VX/NNP 굴/VV EC/NNP',\n",
              " '너무/MAG 그래서/MAJ 보/NNG VV/NNP 것/NNB 을/NNG 추천/NNG 하/NNG EC/NNP',\n",
              " '교도소/NNP 이야기/NNG 이/NNP EC/NNP 솔직히/MAG 재미/NNP JX/NNP 없/VV VA/NNP 다/MAG EC/NNP 평점/NNG 조정/NNG',\n",
              " '사이몬/NNP 익살/NNG 연기/NNG 가/VV 돋보이/VV VV/NNP 덜/VV 영화/NNG 스파이더맨/NNP 늙/VV VV/NNP EC/NNP 보이/NNP VV/NNP 기/NNG ETN/NNP JX/NNP 하/NNG VV/NNP 덜/VV 커스틴 던스트/NNP 가/VV 너무나/MAG 도/NNG JX/NNP 이/NNP MM/NNP']"
            ]
          },
          "metadata": {
            "tags": []
          },
          "execution_count": 228
        }
      ]
    },
    {
      "cell_type": "markdown",
      "metadata": {
        "id": "8LXUFV-PUU51"
      },
      "source": [
        "## 04 전처리 파이프라인 만들기"
      ]
    },
    {
      "cell_type": "code",
      "metadata": {
        "id": "aBlWoTAjUW91"
      },
      "source": [
        "# 특수 문자를 제거하는 파이프라인을 만들겠습니다.\n",
        "def remove_punct(documents):\n",
        "    cleaned_sents = []\n",
        "    for sentence in documents:\n",
        "        # 한글, 영어, 숫자빼고 제거\n",
        "        sentence = re.sub('[^가-힣a-zA-Z0-9\\s]', '', str(sentence))\n",
        "        # 2개 이상의 공백 제거\n",
        "        sentence = re.sub(r'\\s+', ' ', sentence)\n",
        "        # 시작이 공백인 경우 제거\n",
        "        sentence = re.sub(r'^\\s+', '', sentence)\n",
        "        # 마지막이 공백인 경우 제거\n",
        "        sentence = re.sub(r'\\s+$', '', sentence)\n",
        "        cleaned_sents.append(sentence)\n",
        "    return cleaned_sents\n",
        "\n",
        "def space_check(documents):\n",
        "    checked_sentences = []\n",
        "    for sentence in documents:\n",
        "        checked_sentences.append(spacing.get_spaced_sent(sentence))\n",
        "    return checked_sentences\n",
        "\n",
        "\n",
        "def pos_filtering(documents):\n",
        "    '''\n",
        "    입력 문장: 더빙 진짜 짜증나네요 목소리 \n",
        "    출력 문장: 더빙/NNP 진짜/MAG 짜증/NNG 나/VV 목소리/NNG\n",
        "    '''\n",
        "    filtered_docu = []\n",
        "    for sent in documents:\n",
        "        filtered_sent = \"\"\n",
        "        for token, tag in komoran.pos(sent):\n",
        "            if tag in significant_tags:\n",
        "                filtered_sent += token + ' '\n",
        "                # filtered_sent += token + '/' + tag + ' '\n",
        "        filtered_docu.append(filtered_sent.strip())\n",
        "    return filtered_docu\n",
        "\n",
        "def remove_stopwords(documents):\n",
        "    removed_sentences = []\n",
        "    for sent in documents:\n",
        "        modi_sent = []\n",
        "        for word in sent.split(' '):\n",
        "            if word not in stopwords:\n",
        "                modi_sent.append(word)\n",
        "        removed_sentences.append(' '.join(modi_sent))\n",
        "    return removed_sentences\n"
      ],
      "execution_count": 243,
      "outputs": []
    },
    {
      "cell_type": "code",
      "metadata": {
        "id": "pjEWE3K-VwqI"
      },
      "source": [
        "train = pd.read_csv(train_path)\n",
        "tes = pd.read_csv(test_path)\n",
        "\n",
        "train = train.dropna().loc[:100]\n",
        "test = test.dropna()"
      ],
      "execution_count": 235,
      "outputs": []
    },
    {
      "cell_type": "code",
      "metadata": {
        "id": "psfbCzrdUk3z"
      },
      "source": [
        "def preprocessing(df):\n",
        "    '''\n",
        "    입력: DataFrame의 document column\n",
        "    출력: 전처리된 리스트 (cleaned_corpus)\n",
        "    '''\n",
        "    cleaned_corpus = remove_punct(df)\n",
        "    print(cleaned_corpus)\n",
        "    cleaned_corpus = space_check(cleaned_corpus)\n",
        "    print(cleaned_corpus)\n",
        "    cleaned_corpus = pos_filtering(cleaned_corpus)\n",
        "    print(cleaned_corpus)\n",
        "    cleaned_corpus = remove_stopwords(cleaned_corpus)\n",
        "    print(cleaned_corpus)\n",
        "    return cleaned_corpus"
      ],
      "execution_count": 241,
      "outputs": []
    },
    {
      "cell_type": "code",
      "metadata": {
        "id": "WArlruFgVPGX"
      },
      "source": [
        "train_cleaned_document = preprocessing(train['document'])"
      ],
      "execution_count": 237,
      "outputs": []
    },
    {
      "cell_type": "code",
      "metadata": {
        "colab": {
          "base_uri": "https://localhost:8080/"
        },
        "id": "Ln67BAL4VSOS",
        "outputId": "cde76d5e-1477-4aa5-923a-2a45d47d2f02"
      },
      "source": [
        "train_cleaned_document[:5]"
      ],
      "execution_count": 238,
      "outputs": [
        {
          "output_type": "execute_result",
          "data": {
            "text/plain": [
              "['더빙 진짜 짜증 나 목소리',\n",
              " '흠 포스터 보 초딩 영화 줄 오버 연기 가볍 않',\n",
              " '너무 그래서 보 것 추천 하',\n",
              " '교도소 이야기 솔직히 재미 없 평점 조정',\n",
              " '사이몬 익살 스럽 연기 돋보이 영화 스파이더맨 늙 보이 하 커스틴 던스트 너무나']"
            ]
          },
          "metadata": {
            "tags": []
          },
          "execution_count": 238
        }
      ]
    },
    {
      "cell_type": "code",
      "metadata": {
        "id": "v1roHN-TWRKE"
      },
      "source": [
        "review = [\" 으아아~~~ 흠좀너무재미있는ㄴㄴㄴㄴ영화였다*^_^*,,,,,별점9999\"]"
      ],
      "execution_count": 245,
      "outputs": []
    },
    {
      "cell_type": "code",
      "metadata": {
        "colab": {
          "base_uri": "https://localhost:8080/"
        },
        "id": "hR3H6GtH3wi7",
        "outputId": "adc42008-7503-42e8-8c68-c93e91040ab9"
      },
      "source": [
        "preprocessing(review)"
      ],
      "execution_count": 246,
      "outputs": [
        {
          "output_type": "stream",
          "text": [
            "['으아아 흠좀너무재미있는영화였다별점9999']\n",
            "['으아 아 흠 좀 너무 재미있는 영화였다 별점 9999 ']\n",
            "['흠/NNG 좀/MAG 너무/MAG 재미있/VA 영화/NNG 별점/NNG']\n",
            "['너무/MAG 재미있/VA 영화/NNG 별점/NNG']\n"
          ],
          "name": "stdout"
        },
        {
          "output_type": "execute_result",
          "data": {
            "text/plain": [
              "['너무/MAG 재미있/VA 영화/NNG 별점/NNG']"
            ]
          },
          "metadata": {
            "tags": []
          },
          "execution_count": 246
        }
      ]
    },
    {
      "cell_type": "code",
      "metadata": {
        "id": "46Qs19c_3yqJ"
      },
      "source": [
        ""
      ],
      "execution_count": null,
      "outputs": []
    }
  ]
}
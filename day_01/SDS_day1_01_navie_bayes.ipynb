{
  "nbformat": 4,
  "nbformat_minor": 0,
  "metadata": {
    "colab": {
      "name": "SDS_day1_01_navie_bayes.ipynb",
      "provenance": [],
      "collapsed_sections": []
    },
    "kernelspec": {
      "name": "python3",
      "display_name": "Python 3"
    },
    "language_info": {
      "name": "python"
    }
  },
  "cells": [
    {
      "cell_type": "markdown",
      "metadata": {
        "id": "TxO8v40onDU5"
      },
      "source": [
        "# Naive Bayes Classification\n",
        "1. Package Import \n",
        "2. 데이터 불러오기\n",
        "3. 확률 계산\n",
        "4. Test 데이터 spam 메일 예측\n",
        "5. Test Evaluation"
      ]
    },
    {
      "cell_type": "code",
      "metadata": {
        "colab": {
          "base_uri": "https://localhost:8080/"
        },
        "id": "tcDQmKgMnGBM",
        "outputId": "cb7a3045-9ec8-44f0-fe60-066439d46da7"
      },
      "source": [
        "from google.colab import drive\n",
        "drive.mount('/content/drive')"
      ],
      "execution_count": 1,
      "outputs": [
        {
          "output_type": "stream",
          "text": [
            "Mounted at /content/drive\n"
          ],
          "name": "stdout"
        }
      ]
    },
    {
      "cell_type": "markdown",
      "metadata": {
        "id": "vClB2YeSnGoG"
      },
      "source": [
        "## 01 Package Import"
      ]
    },
    {
      "cell_type": "code",
      "metadata": {
        "colab": {
          "base_uri": "https://localhost:8080/"
        },
        "id": "WVxDyXCq4CG_",
        "outputId": "9f181681-d31c-4834-d1dd-dd1c83a12d7c"
      },
      "source": [
        "import pandas as pd\n",
        "from nltk.tokenize import word_tokenize\n",
        "from sklearn.metrics import classification_report\n",
        "import math\n",
        "import numpy as np\n",
        "import nltk\n",
        "nltk.download('punkt')"
      ],
      "execution_count": 2,
      "outputs": [
        {
          "output_type": "stream",
          "text": [
            "[nltk_data] Downloading package punkt to /root/nltk_data...\n",
            "[nltk_data]   Unzipping tokenizers/punkt.zip.\n"
          ],
          "name": "stdout"
        },
        {
          "output_type": "execute_result",
          "data": {
            "text/plain": [
              "True"
            ]
          },
          "metadata": {
            "tags": []
          },
          "execution_count": 2
        }
      ]
    },
    {
      "cell_type": "markdown",
      "metadata": {
        "id": "gS7zxHVc43CF"
      },
      "source": [
        "## 02 데이터 불러오기"
      ]
    },
    {
      "cell_type": "code",
      "metadata": {
        "id": "aZ3IdmUPNoMb"
      },
      "source": [
        "train_path = '/content/drive/MyDrive/05_강의자료/210719_SDS/train.csv'\n",
        "test_path = '/content/drive/MyDrive/05_강의자료/210719_SDS/test.csv'"
      ],
      "execution_count": 3,
      "outputs": []
    },
    {
      "cell_type": "code",
      "metadata": {
        "id": "4gxi4E0h4LBh"
      },
      "source": [
        "train = pd.read_csv(train_path)\n",
        "test = pd.read_csv(test_path)"
      ],
      "execution_count": 4,
      "outputs": []
    },
    {
      "cell_type": "code",
      "metadata": {
        "colab": {
          "base_uri": "https://localhost:8080/",
          "height": 204
        },
        "id": "N7SDhoxn4R77",
        "outputId": "cc364172-cb53-4cc1-aa6a-cff8d16009ca"
      },
      "source": [
        "train.head()"
      ],
      "execution_count": 5,
      "outputs": [
        {
          "output_type": "execute_result",
          "data": {
            "text/html": [
              "<div>\n",
              "<style scoped>\n",
              "    .dataframe tbody tr th:only-of-type {\n",
              "        vertical-align: middle;\n",
              "    }\n",
              "\n",
              "    .dataframe tbody tr th {\n",
              "        vertical-align: top;\n",
              "    }\n",
              "\n",
              "    .dataframe thead th {\n",
              "        text-align: right;\n",
              "    }\n",
              "</style>\n",
              "<table border=\"1\" class=\"dataframe\">\n",
              "  <thead>\n",
              "    <tr style=\"text-align: right;\">\n",
              "      <th></th>\n",
              "      <th>label</th>\n",
              "      <th>mail</th>\n",
              "    </tr>\n",
              "  </thead>\n",
              "  <tbody>\n",
              "    <tr>\n",
              "      <th>0</th>\n",
              "      <td>spam</td>\n",
              "      <td>LookAtMe!: Thanks for your purchase of a video...</td>\n",
              "    </tr>\n",
              "    <tr>\n",
              "      <th>1</th>\n",
              "      <td>ham</td>\n",
              "      <td>Aight, I'll hit you up when I get some cash</td>\n",
              "    </tr>\n",
              "    <tr>\n",
              "      <th>2</th>\n",
              "      <td>ham</td>\n",
              "      <td>Don no da:)whats you plan?</td>\n",
              "    </tr>\n",
              "    <tr>\n",
              "      <th>3</th>\n",
              "      <td>ham</td>\n",
              "      <td>Going to take your babe out ?</td>\n",
              "    </tr>\n",
              "    <tr>\n",
              "      <th>4</th>\n",
              "      <td>ham</td>\n",
              "      <td>No need lar. Jus testing e phone card. Dunno n...</td>\n",
              "    </tr>\n",
              "  </tbody>\n",
              "</table>\n",
              "</div>"
            ],
            "text/plain": [
              "  label                                               mail\n",
              "0  spam  LookAtMe!: Thanks for your purchase of a video...\n",
              "1   ham        Aight, I'll hit you up when I get some cash\n",
              "2   ham                         Don no da:)whats you plan?\n",
              "3   ham                      Going to take your babe out ?\n",
              "4   ham  No need lar. Jus testing e phone card. Dunno n..."
            ]
          },
          "metadata": {
            "tags": []
          },
          "execution_count": 5
        }
      ]
    },
    {
      "cell_type": "code",
      "metadata": {
        "colab": {
          "base_uri": "https://localhost:8080/",
          "height": 35
        },
        "id": "TVfXkHno4glE",
        "outputId": "b53767dc-d65f-435a-c32f-1b9047758762"
      },
      "source": [
        "train.loc[0, 'mail']"
      ],
      "execution_count": 6,
      "outputs": [
        {
          "output_type": "execute_result",
          "data": {
            "application/vnd.google.colaboratory.intrinsic+json": {
              "type": "string"
            },
            "text/plain": [
              "\"LookAtMe!: Thanks for your purchase of a video clip from LookAtMe!, you've been charged 35p. Think you can do better? Why not send a video in a MMSto 32323.\""
            ]
          },
          "metadata": {
            "tags": []
          },
          "execution_count": 6
        }
      ]
    },
    {
      "cell_type": "code",
      "metadata": {
        "colab": {
          "base_uri": "https://localhost:8080/",
          "height": 204
        },
        "id": "7t-KKX8C4XdN",
        "outputId": "f1aa7cac-4516-4166-aba2-a391b05242be"
      },
      "source": [
        "test.head()"
      ],
      "execution_count": null,
      "outputs": [
        {
          "output_type": "execute_result",
          "data": {
            "text/html": [
              "<div>\n",
              "<style scoped>\n",
              "    .dataframe tbody tr th:only-of-type {\n",
              "        vertical-align: middle;\n",
              "    }\n",
              "\n",
              "    .dataframe tbody tr th {\n",
              "        vertical-align: top;\n",
              "    }\n",
              "\n",
              "    .dataframe thead th {\n",
              "        text-align: right;\n",
              "    }\n",
              "</style>\n",
              "<table border=\"1\" class=\"dataframe\">\n",
              "  <thead>\n",
              "    <tr style=\"text-align: right;\">\n",
              "      <th></th>\n",
              "      <th>label</th>\n",
              "      <th>mail</th>\n",
              "    </tr>\n",
              "  </thead>\n",
              "  <tbody>\n",
              "    <tr>\n",
              "      <th>0</th>\n",
              "      <td>ham</td>\n",
              "      <td>Funny fact Nobody teaches volcanoes 2 erupt, t...</td>\n",
              "    </tr>\n",
              "    <tr>\n",
              "      <th>1</th>\n",
              "      <td>ham</td>\n",
              "      <td>I sent my scores to sophas and i had to do sec...</td>\n",
              "    </tr>\n",
              "    <tr>\n",
              "      <th>2</th>\n",
              "      <td>spam</td>\n",
              "      <td>We know someone who you know that fancies you....</td>\n",
              "    </tr>\n",
              "    <tr>\n",
              "      <th>3</th>\n",
              "      <td>ham</td>\n",
              "      <td>Only if you promise your getting out as SOON a...</td>\n",
              "    </tr>\n",
              "    <tr>\n",
              "      <th>4</th>\n",
              "      <td>spam</td>\n",
              "      <td>Congratulations ur awarded either 傭?00 of CD g...</td>\n",
              "    </tr>\n",
              "  </tbody>\n",
              "</table>\n",
              "</div>"
            ],
            "text/plain": [
              "  label                                               mail\n",
              "0   ham  Funny fact Nobody teaches volcanoes 2 erupt, t...\n",
              "1   ham  I sent my scores to sophas and i had to do sec...\n",
              "2  spam  We know someone who you know that fancies you....\n",
              "3   ham  Only if you promise your getting out as SOON a...\n",
              "4  spam  Congratulations ur awarded either 傭?00 of CD g..."
            ]
          },
          "metadata": {
            "tags": []
          },
          "execution_count": 6
        }
      ]
    },
    {
      "cell_type": "code",
      "metadata": {
        "colab": {
          "base_uri": "https://localhost:8080/"
        },
        "id": "M6hyPbWa4zKt",
        "outputId": "be568e95-d137-454d-fab8-77626d499de2"
      },
      "source": [
        "# 데이터 label 개수 파악\n",
        "print(\"Train Label:\", np.unique(train['label'], return_counts=True))\n",
        "print(\"Test Label:\", np.unique(test['label'], return_counts=True))"
      ],
      "execution_count": null,
      "outputs": [
        {
          "output_type": "stream",
          "text": [
            "Train Label: (array(['ham', 'spam'], dtype=object), array([4334,  680]))\n",
            "Test Label: (array(['ham', 'spam'], dtype=object), array([491,  67]))\n"
          ],
          "name": "stdout"
        }
      ]
    },
    {
      "cell_type": "markdown",
      "metadata": {
        "id": "BsItdFr36z5s"
      },
      "source": [
        "## 03 확률 계산"
      ]
    },
    {
      "cell_type": "markdown",
      "metadata": {
        "id": "Rl-LuSQ05hZh"
      },
      "source": [
        "![naive_bayes.png](data:image/png;base64,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)"
      ]
    },
    {
      "cell_type": "markdown",
      "metadata": {
        "id": "kMvLzdy56yb7"
      },
      "source": [
        "### 03-1 Class Prior Probability 계산"
      ]
    },
    {
      "cell_type": "code",
      "metadata": {
        "id": "ZT8LoqmA6_Am"
      },
      "source": [
        "def calculate_prior_prob(df):\n",
        "    ham_num, spam_num = 0, 0\n",
        "    for idx, row in df.iterrows():\n",
        "        if row['label'] == \"ham\":\n",
        "            ham_num += 1\n",
        "        else:\n",
        "            spam_num += 1\n",
        "    \n",
        "    prior_ham = ham_num / len(df)\n",
        "    prior_spam = spam_num / len(df)\n",
        "\n",
        "    return prior_ham, prior_spam"
      ],
      "execution_count": null,
      "outputs": []
    },
    {
      "cell_type": "code",
      "metadata": {
        "id": "pzz9fqcj7gCl"
      },
      "source": [
        "prior_ham, prior_spam = calculate_prior_prob(train)"
      ],
      "execution_count": null,
      "outputs": []
    },
    {
      "cell_type": "code",
      "metadata": {
        "colab": {
          "base_uri": "https://localhost:8080/"
        },
        "id": "ikjE2AK17j9a",
        "outputId": "2ca76e8b-c41a-4491-bab7-09440f23c014"
      },
      "source": [
        "print(f\"prior_ham : {prior_ham:.4f} \\nprior_spam : {prior_spam:.4f}\")"
      ],
      "execution_count": null,
      "outputs": [
        {
          "output_type": "stream",
          "text": [
            "prior_ham : 0.8644 \n",
            "prior_spam : 0.1356\n"
          ],
          "name": "stdout"
        }
      ]
    },
    {
      "cell_type": "markdown",
      "metadata": {
        "id": "TAc4cj4W7oZt"
      },
      "source": [
        "### 03-2 Likelihood 계산을 위한 word count"
      ]
    },
    {
      "cell_type": "code",
      "metadata": {
        "id": "YJde0wNy78hh"
      },
      "source": [
        "# Word count를 위한 함수 정의\n",
        "def calculate_likelihood(df):\n",
        "    ham_dict, spam_dict = {}, {}\n",
        "    ham_all_count, spam_all_count = 0, 0\n",
        "\n",
        "    for _, row in df.iterrows():\n",
        "\n",
        "        # mail 문장 토큰화\n",
        "        token_list = word_tokenize(row['mail'])\n",
        "\n",
        "        # 해당 열의 label에 따라 dictionary 구분\n",
        "        if row['label'] == 'ham':\n",
        "            for w in token_list:\n",
        "                ham_all_count += 1 \n",
        "                if w in ham_dict:\n",
        "                    ham_dict[w] += 1\n",
        "                else:\n",
        "                    ham_dict[w] = 1\n",
        "        \n",
        "        # spam일 때 처리\n",
        "        else:\n",
        "            for w in token_list:\n",
        "                spam_all_count += 1\n",
        "                if w in spam_dict:\n",
        "                    spam_dict[w] += 1\n",
        "                else:\n",
        "                    spam_dict[w] = 1\n",
        "\n",
        "    return ham_dict, spam_dict, ham_all_count, spam_all_count"
      ],
      "execution_count": null,
      "outputs": []
    },
    {
      "cell_type": "code",
      "metadata": {
        "id": "kZ9GPRHl9SC_"
      },
      "source": [
        "ham_dict, spam_dict, ham_all_count, spam_all_count = calculate_likelihood(train)"
      ],
      "execution_count": null,
      "outputs": []
    },
    {
      "cell_type": "code",
      "metadata": {
        "id": "ehPgLO7v9Z5D"
      },
      "source": [
        "ham_dict"
      ],
      "execution_count": null,
      "outputs": []
    },
    {
      "cell_type": "code",
      "metadata": {
        "id": "SdQcftvQ9fnp"
      },
      "source": [
        "spam_dict"
      ],
      "execution_count": null,
      "outputs": []
    },
    {
      "cell_type": "code",
      "metadata": {
        "colab": {
          "base_uri": "https://localhost:8080/"
        },
        "id": "Qq_s36Ym9h8r",
        "outputId": "df573af7-8405-418f-c366-3b9149dbd928"
      },
      "source": [
        "print(f\"ham_all_count: {ham_all_count} \\nspam_all_count: {spam_all_count}\")"
      ],
      "execution_count": null,
      "outputs": [
        {
          "output_type": "stream",
          "text": [
            "ham_all_count: 74291 \n",
            "spam_all_count: 19477\n"
          ],
          "name": "stdout"
        }
      ]
    },
    {
      "cell_type": "markdown",
      "metadata": {
        "id": "8INcR5D59pJc"
      },
      "source": [
        "## 04 Test 데이터 spam 메일 예측"
      ]
    },
    {
      "cell_type": "code",
      "metadata": {
        "id": "z91DXSg4I0H1"
      },
      "source": [
        "def predict_mail(df, ham_dict, spam_dict, ham_all_count, spam_all_count, prior_ham, prior_spam):\n",
        "    pred_list = []\n",
        "\n",
        "    for _, row in df.iterrows():\n",
        "        temp_tokens = word_tokenize(row['mail'])\n",
        "\n",
        "        # 해당 메일이 ham 메일일 확률 계산\n",
        "        ham_prob = math.log(prior_ham) # log(P(ham))\n",
        "        for token in temp_tokens:\n",
        "            if token in ham_dict:\n",
        "                # log(P(ham)) + log(P(word1|ham)) + log(P(word2|ham)) + ...\n",
        "                ham_prob += math.log((ham_dict[token] + 1) / ham_all_count)\n",
        "\n",
        "            # ham_dict에 없던 token이 등장한 경우\n",
        "            else:\n",
        "                ham_prob += math.log(1 / spam_all_count)\n",
        "\n",
        "        \n",
        "        # 해당 메일이 spam 메일일 확률 계싼\n",
        "        spam_prob = math.log(prior_spam) # log(P(spam))\n",
        "        for token in temp_tokens:\n",
        "            if token in spam_dict:\n",
        "                # log(P(spam)) + log(P(word1|spam)) + log(P(word2|spam)) + ...\n",
        "                spam_prob += math.log((spam_dict[token] + 1) / spam_all_count)\n",
        "            \n",
        "            # spam_dict에 없던 token이 등장한 경우\n",
        "            else:\n",
        "                spam_prob += math.log(1 / spam_all_count)\n",
        "\n",
        "        \n",
        "        # 확률 비교해서 높은 쪽에 label 할당\n",
        "        if ham_prob > spam_prob:\n",
        "            pred_list.append(\"ham\")\n",
        "        else:\n",
        "            pred_list.append(\"spam\")\n",
        "\n",
        "    return pred_list"
      ],
      "execution_count": null,
      "outputs": []
    },
    {
      "cell_type": "code",
      "metadata": {
        "id": "C0qikWS-Mh4p"
      },
      "source": [
        "pred_list = predict_mail(test, ham_dict, spam_dict, ham_all_count, spam_all_count, prior_ham, prior_spam)"
      ],
      "execution_count": null,
      "outputs": []
    },
    {
      "cell_type": "code",
      "metadata": {
        "colab": {
          "base_uri": "https://localhost:8080/"
        },
        "id": "f37PvXV9Mo7K",
        "outputId": "2c44c555-641a-4ab1-f60d-b18512dae971"
      },
      "source": [
        "pred_list[:10]"
      ],
      "execution_count": null,
      "outputs": [
        {
          "output_type": "execute_result",
          "data": {
            "text/plain": [
              "['spam', 'ham', 'spam', 'ham', 'spam', 'ham', 'ham', 'ham', 'ham', 'ham']"
            ]
          },
          "metadata": {
            "tags": []
          },
          "execution_count": 28
        }
      ]
    },
    {
      "cell_type": "markdown",
      "metadata": {
        "id": "7cyzmo6UMrdN"
      },
      "source": [
        "## 05 Test Evaluation"
      ]
    },
    {
      "cell_type": "code",
      "metadata": {
        "id": "AbhJR2nMMuRC"
      },
      "source": [
        "test_label = test['label']"
      ],
      "execution_count": null,
      "outputs": []
    },
    {
      "cell_type": "code",
      "metadata": {
        "colab": {
          "base_uri": "https://localhost:8080/"
        },
        "id": "cKS9cQ6pMwcL",
        "outputId": "6a2805d5-b7fd-4f91-b04f-c1088b97ba97"
      },
      "source": [
        "print(classification_report(test_label, pred_list))"
      ],
      "execution_count": null,
      "outputs": [
        {
          "output_type": "stream",
          "text": [
            "              precision    recall  f1-score   support\n",
            "\n",
            "         ham       0.99      0.98      0.98       491\n",
            "        spam       0.85      0.94      0.89        67\n",
            "\n",
            "    accuracy                           0.97       558\n",
            "   macro avg       0.92      0.96      0.94       558\n",
            "weighted avg       0.97      0.97      0.97       558\n",
            "\n"
          ],
          "name": "stdout"
        }
      ]
    },
    {
      "cell_type": "code",
      "metadata": {
        "id": "1XZv-L7iMzmg"
      },
      "source": [
        ""
      ],
      "execution_count": null,
      "outputs": []
    }
  ]
}
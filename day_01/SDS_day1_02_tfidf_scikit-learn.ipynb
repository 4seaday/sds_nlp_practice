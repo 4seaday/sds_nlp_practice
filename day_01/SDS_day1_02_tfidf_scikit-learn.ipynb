{
  "nbformat": 4,
  "nbformat_minor": 0,
  "metadata": {
    "colab": {
      "name": "SDS_day1_02_tfidf.ipynb",
      "provenance": []
    },
    "kernelspec": {
      "name": "python3",
      "display_name": "Python 3"
    },
    "language_info": {
      "name": "python"
    }
  },
  "cells": [
    {
      "cell_type": "markdown",
      "metadata": {
        "id": "Yh-e4vSISQbG"
      },
      "source": [
        "# Word Embedding - Count-based\n",
        "1. Bag of Words (BOW) 구현하기\n",
        "2. TF-IDF 구현하기\n",
        "3. Scikit-learn을 이용한 vectorizer\n",
        "4. Scikit-learn naive bayes classification"
      ]
    },
    {
      "cell_type": "code",
      "metadata": {
        "id": "jPrYtavXPMA4",
        "colab": {
          "base_uri": "https://localhost:8080/"
        },
        "outputId": "7f9d79ac-808b-4bc8-d405-23f581109131"
      },
      "source": [
        "# 한국어 토큰화를 위해 konlpy를 설치합니다\n",
        "!apt-get update\n",
        "!apt-get install g++ openjdk-8-jdk\n",
        "!pip3 install konlpy"
      ],
      "execution_count": 12,
      "outputs": [
        {
          "output_type": "stream",
          "text": [
            "\r0% [Working]\r            \rGet:1 https://cloud.r-project.org/bin/linux/ubuntu bionic-cran40/ InRelease [3,626 B]\n",
            "Ign:2 https://developer.download.nvidia.com/compute/cuda/repos/ubuntu1804/x86_64  InRelease\n",
            "Hit:3 http://ppa.launchpad.net/c2d4u.team/c2d4u4.0+/ubuntu bionic InRelease\n",
            "Hit:4 http://archive.ubuntu.com/ubuntu bionic InRelease\n",
            "Get:5 http://security.ubuntu.com/ubuntu bionic-security InRelease [88.7 kB]\n",
            "Ign:6 https://developer.download.nvidia.com/compute/machine-learning/repos/ubuntu1804/x86_64  InRelease\n",
            "Hit:7 https://developer.download.nvidia.com/compute/cuda/repos/ubuntu1804/x86_64  Release\n",
            "Hit:8 https://developer.download.nvidia.com/compute/machine-learning/repos/ubuntu1804/x86_64  Release\n",
            "Get:9 http://archive.ubuntu.com/ubuntu bionic-updates InRelease [88.7 kB]\n",
            "Hit:10 http://ppa.launchpad.net/cran/libgit2/ubuntu bionic InRelease\n",
            "Hit:11 http://ppa.launchpad.net/deadsnakes/ppa/ubuntu bionic InRelease\n",
            "Get:12 http://archive.ubuntu.com/ubuntu bionic-backports InRelease [74.6 kB]\n",
            "Hit:13 http://ppa.launchpad.net/graphics-drivers/ppa/ubuntu bionic InRelease\n",
            "Fetched 256 kB in 3s (83.9 kB/s)\n",
            "Reading package lists... Done\n",
            "Reading package lists... Done\n",
            "Building dependency tree       \n",
            "Reading state information... Done\n",
            "g++ is already the newest version (4:7.4.0-1ubuntu2.3).\n",
            "openjdk-8-jdk is already the newest version (8u292-b10-0ubuntu1~18.04).\n",
            "0 upgraded, 0 newly installed, 0 to remove and 58 not upgraded.\n",
            "Requirement already satisfied: konlpy in /usr/local/lib/python3.7/dist-packages (0.5.2)\n",
            "Requirement already satisfied: tweepy>=3.7.0 in /usr/local/lib/python3.7/dist-packages (from konlpy) (3.10.0)\n",
            "Requirement already satisfied: colorama in /usr/local/lib/python3.7/dist-packages (from konlpy) (0.4.4)\n",
            "Requirement already satisfied: lxml>=4.1.0 in /usr/local/lib/python3.7/dist-packages (from konlpy) (4.2.6)\n",
            "Requirement already satisfied: numpy>=1.6 in /usr/local/lib/python3.7/dist-packages (from konlpy) (1.19.5)\n",
            "Requirement already satisfied: beautifulsoup4==4.6.0 in /usr/local/lib/python3.7/dist-packages (from konlpy) (4.6.0)\n",
            "Requirement already satisfied: JPype1>=0.7.0 in /usr/local/lib/python3.7/dist-packages (from konlpy) (1.3.0)\n",
            "Requirement already satisfied: requests[socks]>=2.11.1 in /usr/local/lib/python3.7/dist-packages (from tweepy>=3.7.0->konlpy) (2.23.0)\n",
            "Requirement already satisfied: requests-oauthlib>=0.7.0 in /usr/local/lib/python3.7/dist-packages (from tweepy>=3.7.0->konlpy) (1.3.0)\n",
            "Requirement already satisfied: six>=1.10.0 in /usr/local/lib/python3.7/dist-packages (from tweepy>=3.7.0->konlpy) (1.15.0)\n",
            "Requirement already satisfied: typing-extensions; python_version < \"3.8\" in /usr/local/lib/python3.7/dist-packages (from JPype1>=0.7.0->konlpy) (3.7.4.3)\n",
            "Requirement already satisfied: certifi>=2017.4.17 in /usr/local/lib/python3.7/dist-packages (from requests[socks]>=2.11.1->tweepy>=3.7.0->konlpy) (2021.5.30)\n",
            "Requirement already satisfied: urllib3!=1.25.0,!=1.25.1,<1.26,>=1.21.1 in /usr/local/lib/python3.7/dist-packages (from requests[socks]>=2.11.1->tweepy>=3.7.0->konlpy) (1.24.3)\n",
            "Requirement already satisfied: chardet<4,>=3.0.2 in /usr/local/lib/python3.7/dist-packages (from requests[socks]>=2.11.1->tweepy>=3.7.0->konlpy) (3.0.4)\n",
            "Requirement already satisfied: idna<3,>=2.5 in /usr/local/lib/python3.7/dist-packages (from requests[socks]>=2.11.1->tweepy>=3.7.0->konlpy) (2.10)\n",
            "Requirement already satisfied: PySocks!=1.5.7,>=1.5.6; extra == \"socks\" in /usr/local/lib/python3.7/dist-packages (from requests[socks]>=2.11.1->tweepy>=3.7.0->konlpy) (1.7.1)\n",
            "Requirement already satisfied: oauthlib>=3.0.0 in /usr/local/lib/python3.7/dist-packages (from requests-oauthlib>=0.7.0->tweepy>=3.7.0->konlpy) (3.1.1)\n"
          ],
          "name": "stdout"
        }
      ]
    },
    {
      "cell_type": "code",
      "metadata": {
        "id": "iaeiNC_nSRMn"
      },
      "source": [
        "# Library import\n",
        "from konlpy.tag import Komoran\n",
        "import re\n",
        "import pandas as pd\n",
        "import math"
      ],
      "execution_count": 13,
      "outputs": []
    },
    {
      "cell_type": "markdown",
      "metadata": {
        "id": "PfIRD6jAO53H"
      },
      "source": [
        "## 01 Bag of Words (BOW)"
      ]
    },
    {
      "cell_type": "code",
      "metadata": {
        "id": "efeXYXyMs01H"
      },
      "source": [
        "corpus = \"코로나 백신 어서 맞아야 할텐데 하지만 백신 구하기 어려워 코로나 끝났으면.\""
      ],
      "execution_count": 28,
      "outputs": []
    },
    {
      "cell_type": "code",
      "metadata": {
        "id": "7qjz_-w6PImp"
      },
      "source": [
        "# Komoran 객체 정의\n",
        "komoran = Komoran()"
      ],
      "execution_count": 14,
      "outputs": []
    },
    {
      "cell_type": "code",
      "metadata": {
        "id": "m-dcX4F9Pbp6"
      },
      "source": [
        "# 토큰화 이전에 마침표를 제거합니다\n",
        "token = re.sub(\"(\\.)\", \"\", corpus)"
      ],
      "execution_count": 29,
      "outputs": []
    },
    {
      "cell_type": "code",
      "metadata": {
        "colab": {
          "base_uri": "https://localhost:8080/",
          "height": 35
        },
        "id": "NoDRUW1cPjwf",
        "outputId": "0c0bcb4d-5ea6-4873-9189-ca46f0b33c4d"
      },
      "source": [
        "token"
      ],
      "execution_count": 30,
      "outputs": [
        {
          "output_type": "execute_result",
          "data": {
            "application/vnd.google.colaboratory.intrinsic+json": {
              "type": "string"
            },
            "text/plain": [
              "'코로나 백신 어서 맞아야 할텐데 하지만 백신 구하기 어려워 코로나 끝났으면'"
            ]
          },
          "metadata": {
            "tags": []
          },
          "execution_count": 30
        }
      ]
    },
    {
      "cell_type": "code",
      "metadata": {
        "id": "k74iglcuPiFh"
      },
      "source": [
        "token = komoran.morphs(token)"
      ],
      "execution_count": 31,
      "outputs": []
    },
    {
      "cell_type": "code",
      "metadata": {
        "colab": {
          "base_uri": "https://localhost:8080/"
        },
        "id": "ulOuJen5Pm1m",
        "outputId": "9eae52ec-0ca9-4536-8532-559aa83d98c4"
      },
      "source": [
        "token"
      ],
      "execution_count": 32,
      "outputs": [
        {
          "output_type": "execute_result",
          "data": {
            "text/plain": [
              "['코로나',\n",
              " '백신',\n",
              " '어서',\n",
              " '맞',\n",
              " '아야',\n",
              " '하',\n",
              " 'ㄹ텐데',\n",
              " '하지만',\n",
              " '백신',\n",
              " '구하',\n",
              " '기',\n",
              " '어렵',\n",
              " '어',\n",
              " '코로나',\n",
              " '끝나',\n",
              " '았',\n",
              " '으면']"
            ]
          },
          "metadata": {
            "tags": []
          },
          "execution_count": 32
        }
      ]
    },
    {
      "cell_type": "code",
      "metadata": {
        "id": "Rj-IprsyPn5w"
      },
      "source": [
        "word2index = {}\n",
        "bow = []"
      ],
      "execution_count": 19,
      "outputs": []
    },
    {
      "cell_type": "code",
      "metadata": {
        "id": "jSGCTqfBPr6X"
      },
      "source": [
        "# Tokenized된 리스트를 순회하면서 word2index를 생성합니다.\n",
        "# bow 리스트엔 단어 등장 횟수를 카운팅하여 저장합니다.\n",
        "for voca in token:\n",
        "    if voca not in word2index:\n",
        "        word2index[voca] = len(word2index)\n",
        "        bow.insert(len(word2index)-1, 1)\n",
        "\n",
        "    else:\n",
        "        index = word2index.get(voca)\n",
        "        bow[index] = bow[index] + 1"
      ],
      "execution_count": 20,
      "outputs": []
    },
    {
      "cell_type": "code",
      "metadata": {
        "colab": {
          "base_uri": "https://localhost:8080/"
        },
        "id": "PxfXn-4dP6cP",
        "outputId": "a8f46d0c-b7cc-4f6b-bb9d-c799acb937c7"
      },
      "source": [
        "print(word2index)"
      ],
      "execution_count": 21,
      "outputs": [
        {
          "output_type": "stream",
          "text": [
            "{'코로나': 0, '백신': 1, '어서': 2, '맞': 3, '아야': 4, '하': 5, 'ㄹ텐데': 6, '하지만': 7, '구하': 8, '기': 9, '어렵': 10, '어': 11, '끝나': 12, '았': 13, '으면': 14}\n"
          ],
          "name": "stdout"
        }
      ]
    },
    {
      "cell_type": "code",
      "metadata": {
        "colab": {
          "base_uri": "https://localhost:8080/"
        },
        "id": "0hYcbGVwP7lA",
        "outputId": "6173492a-3a16-467d-f704-cac493d958aa"
      },
      "source": [
        "bow"
      ],
      "execution_count": 22,
      "outputs": [
        {
          "output_type": "execute_result",
          "data": {
            "text/plain": [
              "[2, 2, 1, 1, 1, 1, 1, 1, 1, 1, 1, 1, 1, 1, 1]"
            ]
          },
          "metadata": {
            "tags": []
          },
          "execution_count": 22
        }
      ]
    },
    {
      "cell_type": "markdown",
      "metadata": {
        "id": "xjxMNvB_RPkQ"
      },
      "source": [
        "## 02 TF-IDF"
      ]
    },
    {
      "cell_type": "code",
      "metadata": {
        "id": "Ck__ZQ-mRTlc"
      },
      "source": [
        "documents = [\"차가운 아메리카노 먹고 싶다\", \"따뜻한 아메리카노\", \"아메리카노 아메리카노 주세요\", \"카페라떼 주세요\", \"차가운 카페라떼 먹고 싶다\"]"
      ],
      "execution_count": null,
      "outputs": []
    },
    {
      "cell_type": "code",
      "metadata": {
        "id": "Nka4sWdMSxM4"
      },
      "source": [
        "# 이번엔 마침표가 없이 공백으로만 토큰화를 하겠습니다.\n",
        "\n",
        "vocab = []\n",
        "\n",
        "for docu in documents:\n",
        "    words = docu.split(\" \")\n",
        "    for word in words:\n",
        "        if word not in vocab:\n",
        "            vocab.append(word)\n",
        "\n",
        "vocab.sort()"
      ],
      "execution_count": null,
      "outputs": []
    },
    {
      "cell_type": "code",
      "metadata": {
        "colab": {
          "base_uri": "https://localhost:8080/"
        },
        "id": "gYJxQZ7ATDUx",
        "outputId": "f265c289-39fc-4b37-825a-77742bccf977"
      },
      "source": [
        "vocab"
      ],
      "execution_count": null,
      "outputs": [
        {
          "output_type": "execute_result",
          "data": {
            "text/plain": [
              "['따뜻한', '먹고', '싶다', '아메리카노', '주세요', '차가운', '카페라떼']"
            ]
          },
          "metadata": {
            "tags": []
          },
          "execution_count": 66
        }
      ]
    },
    {
      "cell_type": "code",
      "metadata": {
        "id": "EpwE9wsGTDrV"
      },
      "source": [
        "N = len(documents)"
      ],
      "execution_count": null,
      "outputs": []
    },
    {
      "cell_type": "code",
      "metadata": {
        "id": "_A1wzzU1TGgc"
      },
      "source": [
        "# term-frequency\n",
        "def tf(t, d):\n",
        "    return d.count(t)\n",
        "\n",
        "# inverse-term-frequency\n",
        "def idf(t):\n",
        "    df = 0\n",
        "    for docu in documents:\n",
        "        if t in docu:\n",
        "            df += 1\n",
        "    return math.log(N/(df + 1))\n",
        "\n",
        "# tf-idf\n",
        "def tf_idf(t, d):\n",
        "    return tf(t, d) * idf(t)"
      ],
      "execution_count": null,
      "outputs": []
    },
    {
      "cell_type": "code",
      "metadata": {
        "id": "q769PUteTq5q"
      },
      "source": [
        "result = []\n",
        "for i in range(N):\n",
        "    result.append([])\n",
        "    d = documents[i]\n",
        "    for j in range(len(vocab)):\n",
        "        t = vocab[j]\n",
        "        result[-1].append(tf(t, d))\n",
        "\n",
        "tf_ = pd.DataFrame(result, columns=vocab)"
      ],
      "execution_count": null,
      "outputs": []
    },
    {
      "cell_type": "code",
      "metadata": {
        "colab": {
          "base_uri": "https://localhost:8080/",
          "height": 204
        },
        "id": "sKDehSp3T6zR",
        "outputId": "24e231c5-71a8-4960-a8c1-3b86cdbdca4c"
      },
      "source": [
        "tf_"
      ],
      "execution_count": null,
      "outputs": [
        {
          "output_type": "execute_result",
          "data": {
            "text/html": [
              "<div>\n",
              "<style scoped>\n",
              "    .dataframe tbody tr th:only-of-type {\n",
              "        vertical-align: middle;\n",
              "    }\n",
              "\n",
              "    .dataframe tbody tr th {\n",
              "        vertical-align: top;\n",
              "    }\n",
              "\n",
              "    .dataframe thead th {\n",
              "        text-align: right;\n",
              "    }\n",
              "</style>\n",
              "<table border=\"1\" class=\"dataframe\">\n",
              "  <thead>\n",
              "    <tr style=\"text-align: right;\">\n",
              "      <th></th>\n",
              "      <th>따뜻한</th>\n",
              "      <th>먹고</th>\n",
              "      <th>싶다</th>\n",
              "      <th>아메리카노</th>\n",
              "      <th>주세요</th>\n",
              "      <th>차가운</th>\n",
              "      <th>카페라떼</th>\n",
              "    </tr>\n",
              "  </thead>\n",
              "  <tbody>\n",
              "    <tr>\n",
              "      <th>0</th>\n",
              "      <td>0</td>\n",
              "      <td>1</td>\n",
              "      <td>1</td>\n",
              "      <td>1</td>\n",
              "      <td>0</td>\n",
              "      <td>1</td>\n",
              "      <td>0</td>\n",
              "    </tr>\n",
              "    <tr>\n",
              "      <th>1</th>\n",
              "      <td>1</td>\n",
              "      <td>0</td>\n",
              "      <td>0</td>\n",
              "      <td>1</td>\n",
              "      <td>0</td>\n",
              "      <td>0</td>\n",
              "      <td>0</td>\n",
              "    </tr>\n",
              "    <tr>\n",
              "      <th>2</th>\n",
              "      <td>0</td>\n",
              "      <td>0</td>\n",
              "      <td>0</td>\n",
              "      <td>2</td>\n",
              "      <td>1</td>\n",
              "      <td>0</td>\n",
              "      <td>0</td>\n",
              "    </tr>\n",
              "    <tr>\n",
              "      <th>3</th>\n",
              "      <td>0</td>\n",
              "      <td>0</td>\n",
              "      <td>0</td>\n",
              "      <td>0</td>\n",
              "      <td>1</td>\n",
              "      <td>0</td>\n",
              "      <td>1</td>\n",
              "    </tr>\n",
              "    <tr>\n",
              "      <th>4</th>\n",
              "      <td>0</td>\n",
              "      <td>1</td>\n",
              "      <td>1</td>\n",
              "      <td>0</td>\n",
              "      <td>0</td>\n",
              "      <td>1</td>\n",
              "      <td>1</td>\n",
              "    </tr>\n",
              "  </tbody>\n",
              "</table>\n",
              "</div>"
            ],
            "text/plain": [
              "   따뜻한  먹고  싶다  아메리카노  주세요  차가운  카페라떼\n",
              "0    0   1   1      1    0    1     0\n",
              "1    1   0   0      1    0    0     0\n",
              "2    0   0   0      2    1    0     0\n",
              "3    0   0   0      0    1    0     1\n",
              "4    0   1   1      0    0    1     1"
            ]
          },
          "metadata": {
            "tags": []
          },
          "execution_count": 70
        }
      ]
    },
    {
      "cell_type": "code",
      "metadata": {
        "id": "wvbhvmwRT7CK"
      },
      "source": [
        "result = []\n",
        "for j in range(len(vocab)):\n",
        "    t = vocab[j]\n",
        "    result.append(idf(t))\n",
        "\n",
        "idf_ = pd.DataFrame(result, index=vocab, columns=[\"idf\"])"
      ],
      "execution_count": null,
      "outputs": []
    },
    {
      "cell_type": "code",
      "metadata": {
        "colab": {
          "base_uri": "https://localhost:8080/",
          "height": 266
        },
        "id": "8d0HipoLUJkI",
        "outputId": "03ca5737-36ea-4d05-aedb-b1bfaaa39482"
      },
      "source": [
        "idf_"
      ],
      "execution_count": null,
      "outputs": [
        {
          "output_type": "execute_result",
          "data": {
            "text/html": [
              "<div>\n",
              "<style scoped>\n",
              "    .dataframe tbody tr th:only-of-type {\n",
              "        vertical-align: middle;\n",
              "    }\n",
              "\n",
              "    .dataframe tbody tr th {\n",
              "        vertical-align: top;\n",
              "    }\n",
              "\n",
              "    .dataframe thead th {\n",
              "        text-align: right;\n",
              "    }\n",
              "</style>\n",
              "<table border=\"1\" class=\"dataframe\">\n",
              "  <thead>\n",
              "    <tr style=\"text-align: right;\">\n",
              "      <th></th>\n",
              "      <th>idf</th>\n",
              "    </tr>\n",
              "  </thead>\n",
              "  <tbody>\n",
              "    <tr>\n",
              "      <th>따뜻한</th>\n",
              "      <td>0.916291</td>\n",
              "    </tr>\n",
              "    <tr>\n",
              "      <th>먹고</th>\n",
              "      <td>0.510826</td>\n",
              "    </tr>\n",
              "    <tr>\n",
              "      <th>싶다</th>\n",
              "      <td>0.510826</td>\n",
              "    </tr>\n",
              "    <tr>\n",
              "      <th>아메리카노</th>\n",
              "      <td>0.223144</td>\n",
              "    </tr>\n",
              "    <tr>\n",
              "      <th>주세요</th>\n",
              "      <td>0.510826</td>\n",
              "    </tr>\n",
              "    <tr>\n",
              "      <th>차가운</th>\n",
              "      <td>0.510826</td>\n",
              "    </tr>\n",
              "    <tr>\n",
              "      <th>카페라떼</th>\n",
              "      <td>0.510826</td>\n",
              "    </tr>\n",
              "  </tbody>\n",
              "</table>\n",
              "</div>"
            ],
            "text/plain": [
              "            idf\n",
              "따뜻한    0.916291\n",
              "먹고     0.510826\n",
              "싶다     0.510826\n",
              "아메리카노  0.223144\n",
              "주세요    0.510826\n",
              "차가운    0.510826\n",
              "카페라떼   0.510826"
            ]
          },
          "metadata": {
            "tags": []
          },
          "execution_count": 72
        }
      ]
    },
    {
      "cell_type": "code",
      "metadata": {
        "id": "v6iO0nF_UJ6e"
      },
      "source": [
        "result = []\n",
        "for i in range(N):\n",
        "    result.append([])\n",
        "    d = documents[i]\n",
        "    for j in range(len(vocab)):\n",
        "        t = vocab[j]\n",
        "        result[-1].append(tf_idf(t, d))\n",
        "\n",
        "tfidf_ = pd.DataFrame(result, columns=vocab)"
      ],
      "execution_count": null,
      "outputs": []
    },
    {
      "cell_type": "code",
      "metadata": {
        "colab": {
          "base_uri": "https://localhost:8080/",
          "height": 204
        },
        "id": "NgLMq2fTUfVG",
        "outputId": "98b32ed1-f7cb-40a2-96e5-f9a97506df95"
      },
      "source": [
        "tfidf_"
      ],
      "execution_count": null,
      "outputs": [
        {
          "output_type": "execute_result",
          "data": {
            "text/html": [
              "<div>\n",
              "<style scoped>\n",
              "    .dataframe tbody tr th:only-of-type {\n",
              "        vertical-align: middle;\n",
              "    }\n",
              "\n",
              "    .dataframe tbody tr th {\n",
              "        vertical-align: top;\n",
              "    }\n",
              "\n",
              "    .dataframe thead th {\n",
              "        text-align: right;\n",
              "    }\n",
              "</style>\n",
              "<table border=\"1\" class=\"dataframe\">\n",
              "  <thead>\n",
              "    <tr style=\"text-align: right;\">\n",
              "      <th></th>\n",
              "      <th>따뜻한</th>\n",
              "      <th>먹고</th>\n",
              "      <th>싶다</th>\n",
              "      <th>아메리카노</th>\n",
              "      <th>주세요</th>\n",
              "      <th>차가운</th>\n",
              "      <th>카페라떼</th>\n",
              "    </tr>\n",
              "  </thead>\n",
              "  <tbody>\n",
              "    <tr>\n",
              "      <th>0</th>\n",
              "      <td>0.000000</td>\n",
              "      <td>0.510826</td>\n",
              "      <td>0.510826</td>\n",
              "      <td>0.223144</td>\n",
              "      <td>0.000000</td>\n",
              "      <td>0.510826</td>\n",
              "      <td>0.000000</td>\n",
              "    </tr>\n",
              "    <tr>\n",
              "      <th>1</th>\n",
              "      <td>0.916291</td>\n",
              "      <td>0.000000</td>\n",
              "      <td>0.000000</td>\n",
              "      <td>0.223144</td>\n",
              "      <td>0.000000</td>\n",
              "      <td>0.000000</td>\n",
              "      <td>0.000000</td>\n",
              "    </tr>\n",
              "    <tr>\n",
              "      <th>2</th>\n",
              "      <td>0.000000</td>\n",
              "      <td>0.000000</td>\n",
              "      <td>0.000000</td>\n",
              "      <td>0.446287</td>\n",
              "      <td>0.510826</td>\n",
              "      <td>0.000000</td>\n",
              "      <td>0.000000</td>\n",
              "    </tr>\n",
              "    <tr>\n",
              "      <th>3</th>\n",
              "      <td>0.000000</td>\n",
              "      <td>0.000000</td>\n",
              "      <td>0.000000</td>\n",
              "      <td>0.000000</td>\n",
              "      <td>0.510826</td>\n",
              "      <td>0.000000</td>\n",
              "      <td>0.510826</td>\n",
              "    </tr>\n",
              "    <tr>\n",
              "      <th>4</th>\n",
              "      <td>0.000000</td>\n",
              "      <td>0.510826</td>\n",
              "      <td>0.510826</td>\n",
              "      <td>0.000000</td>\n",
              "      <td>0.000000</td>\n",
              "      <td>0.510826</td>\n",
              "      <td>0.510826</td>\n",
              "    </tr>\n",
              "  </tbody>\n",
              "</table>\n",
              "</div>"
            ],
            "text/plain": [
              "        따뜻한        먹고        싶다     아메리카노       주세요       차가운      카페라떼\n",
              "0  0.000000  0.510826  0.510826  0.223144  0.000000  0.510826  0.000000\n",
              "1  0.916291  0.000000  0.000000  0.223144  0.000000  0.000000  0.000000\n",
              "2  0.000000  0.000000  0.000000  0.446287  0.510826  0.000000  0.000000\n",
              "3  0.000000  0.000000  0.000000  0.000000  0.510826  0.000000  0.510826\n",
              "4  0.000000  0.510826  0.510826  0.000000  0.000000  0.510826  0.510826"
            ]
          },
          "metadata": {
            "tags": []
          },
          "execution_count": 74
        }
      ]
    },
    {
      "cell_type": "markdown",
      "metadata": {
        "id": "BaiL8c8fUfqV"
      },
      "source": [
        "## 03 Scikit-learn 사용"
      ]
    },
    {
      "cell_type": "markdown",
      "metadata": {
        "id": "WmLwJPmttN-t"
      },
      "source": [
        "### 03-1 Scikit-learn을 사용한 BOW vectorizer"
      ]
    },
    {
      "cell_type": "code",
      "metadata": {
        "id": "eySP3GgPP84w"
      },
      "source": [
        "from sklearn.feature_extraction.text import CountVectorizer"
      ],
      "execution_count": 23,
      "outputs": []
    },
    {
      "cell_type": "code",
      "metadata": {
        "id": "fxdXtiA3s65H"
      },
      "source": [
        "corpus = [\"코로나 백신 어서 맞아야 할텐데 하지만 백신 구하기 어려워 코로나 끝났으면.\"]"
      ],
      "execution_count": 36,
      "outputs": []
    },
    {
      "cell_type": "code",
      "metadata": {
        "id": "-jONjEKpQczq"
      },
      "source": [
        "vector = CountVectorizer()"
      ],
      "execution_count": 37,
      "outputs": []
    },
    {
      "cell_type": "code",
      "metadata": {
        "colab": {
          "base_uri": "https://localhost:8080/"
        },
        "id": "mJ7tCOsNQecJ",
        "outputId": "34113ed0-ecdf-460e-d010-43cae0e12e00"
      },
      "source": [
        "vector.fit(corpus)"
      ],
      "execution_count": 38,
      "outputs": [
        {
          "output_type": "execute_result",
          "data": {
            "text/plain": [
              "CountVectorizer(analyzer='word', binary=False, decode_error='strict',\n",
              "                dtype=<class 'numpy.int64'>, encoding='utf-8', input='content',\n",
              "                lowercase=True, max_df=1.0, max_features=None, min_df=1,\n",
              "                ngram_range=(1, 1), preprocessor=None, stop_words=None,\n",
              "                strip_accents=None, token_pattern='(?u)\\\\b\\\\w\\\\w+\\\\b',\n",
              "                tokenizer=None, vocabulary=None)"
            ]
          },
          "metadata": {
            "tags": []
          },
          "execution_count": 38
        }
      ]
    },
    {
      "cell_type": "code",
      "metadata": {
        "colab": {
          "base_uri": "https://localhost:8080/"
        },
        "id": "DSZ8vrj8s-_Q",
        "outputId": "e25c552b-1613-42dc-d718-daf4934f4cd0"
      },
      "source": [
        "vector.transform(corpus).toarray()"
      ],
      "execution_count": 39,
      "outputs": [
        {
          "output_type": "execute_result",
          "data": {
            "text/plain": [
              "array([[1, 1, 1, 2, 1, 1, 2, 1, 1]])"
            ]
          },
          "metadata": {
            "tags": []
          },
          "execution_count": 39
        }
      ]
    },
    {
      "cell_type": "code",
      "metadata": {
        "colab": {
          "base_uri": "https://localhost:8080/"
        },
        "id": "q6OzcHYsQhBQ",
        "outputId": "d6677d7c-57b5-464f-b979-a3fe19e9e2f3"
      },
      "source": [
        "vector.vocabulary_"
      ],
      "execution_count": 40,
      "outputs": [
        {
          "output_type": "execute_result",
          "data": {
            "text/plain": [
              "{'구하기': 0,\n",
              " '끝났으면': 1,\n",
              " '맞아야': 2,\n",
              " '백신': 3,\n",
              " '어려워': 4,\n",
              " '어서': 5,\n",
              " '코로나': 6,\n",
              " '하지만': 7,\n",
              " '할텐데': 8}"
            ]
          },
          "metadata": {
            "tags": []
          },
          "execution_count": 40
        }
      ]
    },
    {
      "cell_type": "markdown",
      "metadata": {
        "id": "WM0zJlsJtTgG"
      },
      "source": [
        "### 03-2 Scikit-learn을 이용한 TF-IDF vectorizer"
      ]
    },
    {
      "cell_type": "code",
      "metadata": {
        "id": "sC-GplagVHc8"
      },
      "source": [
        "from sklearn.feature_extraction.text import TfidfVectorizer"
      ],
      "execution_count": 41,
      "outputs": []
    },
    {
      "cell_type": "code",
      "metadata": {
        "id": "lZ-qbSZctEN1"
      },
      "source": [
        "documents = [\"차가운 아메리카노 먹고 싶다\", \"따뜻한 아메리카노\", \"아메리카노 아메리카노 주세요\", \"카페라떼 주세요\", \"차가운 카페라떼 먹고 싶다\"]"
      ],
      "execution_count": 42,
      "outputs": []
    },
    {
      "cell_type": "code",
      "metadata": {
        "id": "pkXRaU9MVuPd"
      },
      "source": [
        "tfidfv = TfidfVectorizer().fit(documents)"
      ],
      "execution_count": 43,
      "outputs": []
    },
    {
      "cell_type": "code",
      "metadata": {
        "id": "dm2ji0CsVxEK"
      },
      "source": [
        "tfidfv_array = tfidfv.transform(documents).toarray()"
      ],
      "execution_count": 44,
      "outputs": []
    },
    {
      "cell_type": "code",
      "metadata": {
        "id": "AE8YAW4jtJyh"
      },
      "source": [
        "# 이번엔 마침표가 없이 공백으로만 토큰화를 하겠습니다.\n",
        "\n",
        "vocab = []\n",
        "\n",
        "for docu in documents:\n",
        "    words = docu.split(\" \")\n",
        "    for word in words:\n",
        "        if word not in vocab:\n",
        "            vocab.append(word)\n",
        "\n",
        "vocab.sort()"
      ],
      "execution_count": 47,
      "outputs": []
    },
    {
      "cell_type": "code",
      "metadata": {
        "id": "XB3sFo5tXISF",
        "colab": {
          "base_uri": "https://localhost:8080/",
          "height": 204
        },
        "outputId": "fd297ff9-a799-4f0b-8b33-a113486aae96"
      },
      "source": [
        "pd.DataFrame(tfidfv_array, columns=vocab)"
      ],
      "execution_count": 48,
      "outputs": [
        {
          "output_type": "execute_result",
          "data": {
            "text/html": [
              "<div>\n",
              "<style scoped>\n",
              "    .dataframe tbody tr th:only-of-type {\n",
              "        vertical-align: middle;\n",
              "    }\n",
              "\n",
              "    .dataframe tbody tr th {\n",
              "        vertical-align: top;\n",
              "    }\n",
              "\n",
              "    .dataframe thead th {\n",
              "        text-align: right;\n",
              "    }\n",
              "</style>\n",
              "<table border=\"1\" class=\"dataframe\">\n",
              "  <thead>\n",
              "    <tr style=\"text-align: right;\">\n",
              "      <th></th>\n",
              "      <th>따뜻한</th>\n",
              "      <th>먹고</th>\n",
              "      <th>싶다</th>\n",
              "      <th>아메리카노</th>\n",
              "      <th>주세요</th>\n",
              "      <th>차가운</th>\n",
              "      <th>카페라떼</th>\n",
              "    </tr>\n",
              "  </thead>\n",
              "  <tbody>\n",
              "    <tr>\n",
              "      <th>0</th>\n",
              "      <td>0.000000</td>\n",
              "      <td>0.520646</td>\n",
              "      <td>0.520646</td>\n",
              "      <td>0.432183</td>\n",
              "      <td>0.000000</td>\n",
              "      <td>0.520646</td>\n",
              "      <td>0.000000</td>\n",
              "    </tr>\n",
              "    <tr>\n",
              "      <th>1</th>\n",
              "      <td>0.830881</td>\n",
              "      <td>0.000000</td>\n",
              "      <td>0.000000</td>\n",
              "      <td>0.556451</td>\n",
              "      <td>0.000000</td>\n",
              "      <td>0.000000</td>\n",
              "      <td>0.000000</td>\n",
              "    </tr>\n",
              "    <tr>\n",
              "      <th>2</th>\n",
              "      <td>0.000000</td>\n",
              "      <td>0.000000</td>\n",
              "      <td>0.000000</td>\n",
              "      <td>0.856606</td>\n",
              "      <td>0.515971</td>\n",
              "      <td>0.000000</td>\n",
              "      <td>0.000000</td>\n",
              "    </tr>\n",
              "    <tr>\n",
              "      <th>3</th>\n",
              "      <td>0.000000</td>\n",
              "      <td>0.000000</td>\n",
              "      <td>0.000000</td>\n",
              "      <td>0.000000</td>\n",
              "      <td>0.707107</td>\n",
              "      <td>0.000000</td>\n",
              "      <td>0.707107</td>\n",
              "    </tr>\n",
              "    <tr>\n",
              "      <th>4</th>\n",
              "      <td>0.000000</td>\n",
              "      <td>0.500000</td>\n",
              "      <td>0.500000</td>\n",
              "      <td>0.000000</td>\n",
              "      <td>0.000000</td>\n",
              "      <td>0.500000</td>\n",
              "      <td>0.500000</td>\n",
              "    </tr>\n",
              "  </tbody>\n",
              "</table>\n",
              "</div>"
            ],
            "text/plain": [
              "        따뜻한        먹고        싶다     아메리카노       주세요       차가운      카페라떼\n",
              "0  0.000000  0.520646  0.520646  0.432183  0.000000  0.520646  0.000000\n",
              "1  0.830881  0.000000  0.000000  0.556451  0.000000  0.000000  0.000000\n",
              "2  0.000000  0.000000  0.000000  0.856606  0.515971  0.000000  0.000000\n",
              "3  0.000000  0.000000  0.000000  0.000000  0.707107  0.000000  0.707107\n",
              "4  0.000000  0.500000  0.500000  0.000000  0.000000  0.500000  0.500000"
            ]
          },
          "metadata": {
            "tags": []
          },
          "execution_count": 48
        }
      ]
    },
    {
      "cell_type": "code",
      "metadata": {
        "colab": {
          "base_uri": "https://localhost:8080/"
        },
        "id": "Lht4RVOzVzVN",
        "outputId": "3e8cb316-2674-411f-af38-14fff1daa783"
      },
      "source": [
        "tfidfv.vocabulary_"
      ],
      "execution_count": 49,
      "outputs": [
        {
          "output_type": "execute_result",
          "data": {
            "text/plain": [
              "{'따뜻한': 0, '먹고': 1, '싶다': 2, '아메리카노': 3, '주세요': 4, '차가운': 5, '카페라떼': 6}"
            ]
          },
          "metadata": {
            "tags": []
          },
          "execution_count": 49
        }
      ]
    },
    {
      "cell_type": "code",
      "metadata": {
        "id": "RbuIy7-4V6S5"
      },
      "source": [
        ""
      ],
      "execution_count": null,
      "outputs": []
    }
  ]
}